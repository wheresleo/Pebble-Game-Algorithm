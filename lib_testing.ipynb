{
 "cells": [
  {
   "cell_type": "code",
   "execution_count": 1,
   "id": "1520488a-184d-4047-b375-c48dc74b9d5d",
   "metadata": {},
   "outputs": [],
   "source": [
    "import igraph\n",
    "import numpy as np\n",
    "import pandas as pd\n",
    "import pebble_game_algorithm.lib as lib\n",
    "import logging"
   ]
  },
  {
   "cell_type": "code",
   "execution_count": 2,
   "id": "c51ff918-7204-4fb8-b974-691a7bc1f05a",
   "metadata": {},
   "outputs": [],
   "source": [
    "FORMAT = '%(asctime)s %(levelname)s:%(message)s'\n",
    "logging.basicConfig(level=logging.ERROR, format=FORMAT, datefmt='%m/%d/%Y %I:%M:%S %p')"
   ]
  },
  {
   "cell_type": "code",
   "execution_count": null,
   "id": "00bb763a-96bc-4f1a-b781-46a98fb44c5e",
   "metadata": {},
   "outputs": [],
   "source": [
    "g = igraph.Graph.GRG(25, 0.4)"
   ]
  },
  {
   "cell_type": "code",
   "execution_count": 4,
   "id": "460b8154-271f-4a09-8ee6-3b78b91de3ad",
   "metadata": {},
   "outputs": [
    {
     "name": "stdout",
     "output_type": "stream",
     "text": [
      "IGRAPH U--- 25 92 --\n",
      "+ attr: x (v), y (v)\n",
      "+ edges:\n",
      " 0 --  1  2  9 10                              15 --  7  8 11 12 13 14 16 17\n",
      "19 22 24\n",
      " 1 --  0  2  9 10                              16 -- 11 12 13 14 15 17 19 20\n",
      "22\n",
      " 2 --  0  1  9 10                              17 -- 11 12 13 14 15 16 19 20\n",
      "22\n",
      " 3 --  4  5  7  8 11                           18 --  9 10 20 21 23\n",
      " 4 --  3  5  6  7  8 11 12                     19 -- 11 12 13 14 15 16 17 20\n",
      "22 24\n",
      " 5 --  3  4  6  7  8 11 12 13                  20 -- 16 17 18 19 21 23\n",
      " 6 --  4  5  7  8 11 12                        21 -- 18 20 23\n",
      " 7 --  3  4  5  6  8 11 12 13 14 15            22 -- 13 14 15 16 17 19 24\n",
      " 8 --  3  4  5  6  7 11 12 13 14 15            23 -- 18 20 21\n",
      " 9 --  0  1  2 10 18                           24 -- 13 14 15 19 22\n",
      "10 --  0  1  2  9 18\n",
      "11 --  3  4  5  6  7  8 12 13 14 15 16 17 19\n",
      "12 --  4  5  6  7  8 11 13 14 15 16 17 19\n",
      "13 --  5  7  8 11 12 14 15 16 17 19 22 24\n",
      "14 --  7  8 11 12 13 15 16 17 19 22 24\n"
     ]
    }
   ],
   "source": [
    "print(g)"
   ]
  },
  {
   "cell_type": "code",
   "execution_count": 5,
   "id": "22f6722a-6eda-4120-ac0f-68b15bff2f12",
   "metadata": {},
   "outputs": [],
   "source": [
    "for idx, v in enumerate(g.vs):\n",
    "    v[\"name\"] = str(f\"v_{idx}\")\n",
    "    v[\"free_pebble\"] = 2"
   ]
  },
  {
   "cell_type": "code",
   "execution_count": 6,
   "id": "99e3f4c8-dfdc-465b-ac26-6124fd5cfb44",
   "metadata": {},
   "outputs": [],
   "source": [
    "edges = []\n",
    "for edge in g.es:\n",
    "    source, target = edge.tuple\n",
    "    edges.append((g.vs[source][\"name\"], g.vs[target][\"name\"]))\n",
    "g.delete_edges(edges)\n",
    "g.to_directed()"
   ]
  },
  {
   "cell_type": "code",
   "execution_count": 7,
   "id": "5d72d8bd-7e37-4a6a-af77-758153a353a2",
   "metadata": {},
   "outputs": [
    {
     "name": "stdout",
     "output_type": "stream",
     "text": [
      "IGRAPH DN-- 25 0 --\n",
      "+ attr: free_pebble (v), name (v), x (v), y (v)\n"
     ]
    }
   ],
   "source": [
    "print(g)"
   ]
  },
  {
   "cell_type": "code",
   "execution_count": 8,
   "id": "c5c66c56-e286-4c59-a509-eacb6fae5f3b",
   "metadata": {},
   "outputs": [
    {
     "name": "stderr",
     "output_type": "stream",
     "text": [
      "12/12/2021 06:35:20 PM INFO:Edge is redundant: ('v_2', 'v_9')\n",
      "12/12/2021 06:35:20 PM INFO:Edge is redundant: ('v_2', 'v_10')\n",
      "12/12/2021 06:35:20 PM INFO:Edge is redundant: ('v_5', 'v_7')\n",
      "12/12/2021 06:35:20 PM INFO:Edge is redundant: ('v_5', 'v_8')\n",
      "12/12/2021 06:35:20 PM INFO:Edge is redundant: ('v_5', 'v_11')\n",
      "12/12/2021 06:35:20 PM INFO:Edge is redundant: ('v_6', 'v_7')\n",
      "12/12/2021 06:35:20 PM INFO:Edge is redundant: ('v_6', 'v_8')\n",
      "12/12/2021 06:35:20 PM INFO:Edge is redundant: ('v_6', 'v_11')\n",
      "12/12/2021 06:35:20 PM INFO:Edge is redundant: ('v_6', 'v_12')\n",
      "12/12/2021 06:35:20 PM INFO:Edge is redundant: ('v_7', 'v_8')\n",
      "12/12/2021 06:35:20 PM INFO:Edge is redundant: ('v_7', 'v_11')\n",
      "12/12/2021 06:35:20 PM INFO:Edge is redundant: ('v_7', 'v_12')\n",
      "12/12/2021 06:35:20 PM INFO:Edge is redundant: ('v_8', 'v_11')\n",
      "12/12/2021 06:35:20 PM INFO:Edge is redundant: ('v_8', 'v_12')\n",
      "12/12/2021 06:35:20 PM INFO:Edge is redundant: ('v_8', 'v_13')\n",
      "12/12/2021 06:35:20 PM INFO:Edge is redundant: ('v_9', 'v_10')\n",
      "12/12/2021 06:35:20 PM INFO:Edge is redundant: ('v_11', 'v_12')\n",
      "12/12/2021 06:35:20 PM INFO:Edge is redundant: ('v_11', 'v_13')\n",
      "12/12/2021 06:35:20 PM INFO:Edge is redundant: ('v_11', 'v_14')\n",
      "12/12/2021 06:35:20 PM INFO:Edge is redundant: ('v_11', 'v_15')\n",
      "12/12/2021 06:35:20 PM INFO:Edge is redundant: ('v_12', 'v_13')\n",
      "12/12/2021 06:35:20 PM INFO:Edge is redundant: ('v_12', 'v_14')\n",
      "12/12/2021 06:35:20 PM INFO:Edge is redundant: ('v_12', 'v_15')\n",
      "12/12/2021 06:35:20 PM INFO:Edge is redundant: ('v_13', 'v_14')\n",
      "12/12/2021 06:35:20 PM INFO:Edge is redundant: ('v_13', 'v_15')\n",
      "12/12/2021 06:35:20 PM INFO:Edge is redundant: ('v_13', 'v_16')\n",
      "12/12/2021 06:35:20 PM INFO:Edge is redundant: ('v_13', 'v_17')\n",
      "12/12/2021 06:35:20 PM INFO:Edge is redundant: ('v_13', 'v_19')\n",
      "12/12/2021 06:35:20 PM INFO:Edge is redundant: ('v_14', 'v_15')\n",
      "12/12/2021 06:35:20 PM INFO:Edge is redundant: ('v_14', 'v_16')\n",
      "12/12/2021 06:35:20 PM INFO:Edge is redundant: ('v_14', 'v_17')\n",
      "12/12/2021 06:35:20 PM INFO:Edge is redundant: ('v_14', 'v_19')\n",
      "12/12/2021 06:35:20 PM INFO:Edge is redundant: ('v_15', 'v_16')\n",
      "12/12/2021 06:35:20 PM INFO:Edge is redundant: ('v_15', 'v_17')\n",
      "12/12/2021 06:35:20 PM INFO:Edge is redundant: ('v_15', 'v_19')\n",
      "12/12/2021 06:35:20 PM INFO:Edge is redundant: ('v_15', 'v_22')\n",
      "12/12/2021 06:35:20 PM INFO:Edge is redundant: ('v_15', 'v_24')\n",
      "12/12/2021 06:35:20 PM INFO:Edge is redundant: ('v_16', 'v_17')\n",
      "12/12/2021 06:35:20 PM INFO:Edge is redundant: ('v_16', 'v_19')\n",
      "12/12/2021 06:35:20 PM INFO:Edge is redundant: ('v_16', 'v_22')\n",
      "12/12/2021 06:35:20 PM INFO:Edge is redundant: ('v_17', 'v_19')\n",
      "12/12/2021 06:35:20 PM INFO:Edge is redundant: ('v_17', 'v_22')\n",
      "12/12/2021 06:35:20 PM INFO:Edge is redundant: ('v_19', 'v_20')\n",
      "12/12/2021 06:35:20 PM INFO:Edge is redundant: ('v_19', 'v_22')\n",
      "12/12/2021 06:35:20 PM INFO:Edge is redundant: ('v_19', 'v_24')\n",
      "12/12/2021 06:35:20 PM INFO:Edge is redundant: ('v_21', 'v_23')\n",
      "12/12/2021 06:35:20 PM INFO:Edge is redundant: ('v_22', 'v_24')\n"
     ]
    },
    {
     "name": "stdout",
     "output_type": "stream",
     "text": [
      "Stressed cluster: {'v_9', 'v_2', 'v_0', 'v_1'}\n",
      "Stressed cluster: {'v_10', 'v_2', 'v_0', 'v_1'}\n",
      "Stressed cluster: {'v_3', 'v_5', 'v_4', 'v_7'}\n",
      "Stressed cluster: {'v_3', 'v_5', 'v_4', 'v_8'}\n",
      "Stressed cluster: {'v_3', 'v_5', 'v_11', 'v_4'}\n",
      "Stressed cluster: {'v_3', 'v_6', 'v_5', 'v_7', 'v_4'}\n",
      "Stressed cluster: {'v_3', 'v_6', 'v_8', 'v_5', 'v_4'}\n",
      "Stressed cluster: {'v_3', 'v_11', 'v_6', 'v_5', 'v_4'}\n",
      "Stressed cluster: {'v_4', 'v_5', 'v_6', 'v_12'}\n",
      "Stressed cluster: {'v_3', 'v_4', 'v_8', 'v_7'}\n",
      "Stressed cluster: {'v_3', 'v_11', 'v_4', 'v_7'}\n",
      "Stressed cluster: {'v_3', 'v_7', 'v_5', 'v_12', 'v_4'}\n",
      "Stressed cluster: {'v_3', 'v_11', 'v_4', 'v_8'}\n",
      "Stressed cluster: {'v_3', 'v_8', 'v_5', 'v_12', 'v_4'}\n",
      "Stressed cluster: {'v_3', 'v_13', 'v_8', 'v_5', 'v_7', 'v_4'}\n",
      "Stressed cluster: {'v_9', 'v_0', 'v_10', 'v_1'}\n",
      "Stressed cluster: {'v_3', 'v_11', 'v_5', 'v_12', 'v_4'}\n",
      "Stressed cluster: {'v_3', 'v_11', 'v_13', 'v_5', 'v_7', 'v_4'}\n",
      "Stressed cluster: {'v_14', 'v_3', 'v_11', 'v_8', 'v_7', 'v_4'}\n",
      "Stressed cluster: {'v_3', 'v_11', 'v_8', 'v_15', 'v_7', 'v_4'}\n",
      "Stressed cluster: {'v_3', 'v_13', 'v_5', 'v_7', 'v_4', 'v_12'}\n",
      "Stressed cluster: {'v_14', 'v_3', 'v_8', 'v_5', 'v_7', 'v_4', 'v_12'}\n",
      "Stressed cluster: {'v_3', 'v_7', 'v_8', 'v_5', 'v_15', 'v_12', 'v_4'}\n",
      "Stressed cluster: {'v_14', 'v_3', 'v_13', 'v_8', 'v_5', 'v_7', 'v_4'}\n",
      "Stressed cluster: {'v_3', 'v_13', 'v_8', 'v_5', 'v_15', 'v_7', 'v_4'}\n",
      "Stressed cluster: {'v_3', 'v_11', 'v_13', 'v_5', 'v_7', 'v_4', 'v_12', 'v_16'}\n",
      "Stressed cluster: {'v_3', 'v_11', 'v_13', 'v_5', 'v_7', 'v_4', 'v_17', 'v_12'}\n",
      "Stressed cluster: {'v_3', 'v_11', 'v_13', 'v_5', 'v_19', 'v_7', 'v_4', 'v_12'}\n",
      "Stressed cluster: {'v_14', 'v_3', 'v_8', 'v_15', 'v_7', 'v_4'}\n",
      "Stressed cluster: {'v_14', 'v_3', 'v_11', 'v_8', 'v_5', 'v_7', 'v_4', 'v_12', 'v_16'}\n",
      "Stressed cluster: {'v_14', 'v_3', 'v_11', 'v_8', 'v_5', 'v_7', 'v_4', 'v_17', 'v_12'}\n",
      "Stressed cluster: {'v_14', 'v_3', 'v_11', 'v_8', 'v_5', 'v_19', 'v_7', 'v_4', 'v_12'}\n",
      "Stressed cluster: {'v_3', 'v_11', 'v_8', 'v_5', 'v_15', 'v_7', 'v_4', 'v_12', 'v_16'}\n",
      "Stressed cluster: {'v_3', 'v_11', 'v_8', 'v_5', 'v_15', 'v_7', 'v_4', 'v_17', 'v_12'}\n",
      "Stressed cluster: {'v_3', 'v_11', 'v_8', 'v_5', 'v_15', 'v_19', 'v_7', 'v_4', 'v_12'}\n",
      "Stressed cluster: {'v_14', 'v_3', 'v_13', 'v_8', 'v_5', 'v_15', 'v_7', 'v_4', 'v_22'}\n",
      "Stressed cluster: {'v_14', 'v_3', 'v_13', 'v_8', 'v_5', 'v_15', 'v_7', 'v_4', 'v_24'}\n",
      "Stressed cluster: {'v_3', 'v_11', 'v_5', 'v_12', 'v_4', 'v_17', 'v_16'}\n",
      "Stressed cluster: {'v_3', 'v_11', 'v_5', 'v_19', 'v_12', 'v_4', 'v_16'}\n",
      "Stressed cluster: {'v_14', 'v_3', 'v_11', 'v_13', 'v_8', 'v_5', 'v_7', 'v_4', 'v_12', 'v_16', 'v_22'}\n",
      "Stressed cluster: {'v_3', 'v_11', 'v_5', 'v_19', 'v_12', 'v_4', 'v_17'}\n",
      "Stressed cluster: {'v_14', 'v_3', 'v_11', 'v_13', 'v_8', 'v_5', 'v_7', 'v_4', 'v_17', 'v_12', 'v_22'}\n",
      "Stressed cluster: {'v_20', 'v_3', 'v_11', 'v_5', 'v_19', 'v_12', 'v_4', 'v_17', 'v_16'}\n",
      "Stressed cluster: {'v_14', 'v_3', 'v_11', 'v_13', 'v_8', 'v_5', 'v_19', 'v_7', 'v_4', 'v_12', 'v_22'}\n",
      "Stressed cluster: {'v_14', 'v_3', 'v_11', 'v_13', 'v_8', 'v_5', 'v_19', 'v_7', 'v_4', 'v_12', 'v_24'}\n",
      "Stressed cluster: {'v_18', 'v_20', 'v_23', 'v_21'}\n",
      "Stressed cluster: {'v_14', 'v_24', 'v_3', 'v_13', 'v_8', 'v_5', 'v_7', 'v_4', 'v_22'}\n"
     ]
    }
   ],
   "source": [
    "for edge in edges:\n",
    "    independent, stressed_cluster = lib.build_edge(g, edge)\n",
    "    if not independent:\n",
    "        print(f\"Stressed cluster: {stressed_cluster}\")"
   ]
  },
  {
   "cell_type": "code",
   "execution_count": 9,
   "id": "bb642a39-5492-4304-b9ff-8fe912361666",
   "metadata": {},
   "outputs": [
    {
     "name": "stdout",
     "output_type": "stream",
     "text": [
      "IGRAPH DN-- 25 45 --\n",
      "+ attr: free_pebble (v), name (v), x (v), y (v)\n",
      "+ edges (vertex names):\n",
      "v_1->v_10, v_2->v_0, v_6->v_4, v_6->v_5, v_0->v_9, v_2->v_1, v_9->v_18,\n",
      "v_0->v_10, v_1->v_0, v_9->v_1, v_10->v_18, v_8->v_4, v_15->v_8, v_15->v_7,\n",
      "v_12->v_5, v_19->v_12, v_16->v_11, v_18->v_23, v_21->v_20, v_11->v_4,\n",
      "v_16->v_12, v_20->v_16, v_18->v_20, v_21->v_18, v_13->v_24, v_7->v_13,\n",
      "v_3->v_7, v_5->v_3, v_12->v_4, v_17->v_12, v_19->v_11, v_14->v_22, v_7->v_14,\n",
      "v_4->v_7, v_11->v_3, v_17->v_11, v_20->v_17, v_23->v_20, v_14->v_24,\n",
      "v_8->v_14, v_3->v_8, v_4->v_3, v_5->v_4, v_13->v_5, v_22->v_13\n"
     ]
    }
   ],
   "source": [
    "print(g)"
   ]
  },
  {
   "cell_type": "code",
   "execution_count": 12,
   "id": "a60a15c1-7dc5-4118-a121-1a8095e75dae",
   "metadata": {},
   "outputs": [
    {
     "name": "stdout",
     "output_type": "stream",
     "text": [
      "Rigid cluster for edge ('v_0', 'v_1') is ['v_18', 'v_10', 'v_1', 'v_2', 'v_0', 'v_9', 'v_23', 'v_21']\n",
      "Rigid cluster for edge ('v_3', 'v_4') is ['v_11', 'v_12', 'v_4', 'v_23', 'v_16', 'v_20', 'v_13', 'v_8', 'v_5', 'v_15', 'v_19', 'v_7', 'v_21', 'v_17', 'v_22', 'v_14', 'v_3', 'v_6', 'v_24']\n"
     ]
    }
   ],
   "source": [
    "all_subgraph = set()\n",
    "for edge in edges[:]:\n",
    "    source, target = edge\n",
    "    if source in all_subgraph and target in all_subgraph:\n",
    "        # this edge is in an existing rigid cluster\n",
    "        continue\n",
    "    subgraph = lib.find_rigid_cluster(g, edge)\n",
    "    all_subgraph = all_subgraph.union(subgraph)\n",
    "    print(f\"Rigid cluster for edge {edge} is {[v for v in subgraph]}\")"
   ]
  },
  {
   "cell_type": "code",
   "execution_count": 15,
   "id": "42ae887a-8b89-4750-b3ab-2783162b0340",
   "metadata": {},
   "outputs": [
    {
     "name": "stdout",
     "output_type": "stream",
     "text": [
      "Stressed cluster for edge ('v_0', 'v_1') is ['v_0', 'v_1']\n",
      "Stressed cluster for edge ('v_0', 'v_2') is ['v_0', 'v_2']\n",
      "Stressed cluster for edge ('v_0', 'v_9') is ['v_9', 'v_0']\n",
      "Stressed cluster for edge ('v_0', 'v_10') is ['v_0', 'v_10']\n",
      "Stressed cluster for edge ('v_1', 'v_2') is ['v_2', 'v_1']\n",
      "Stressed cluster for edge ('v_1', 'v_9') is ['v_9', 'v_1']\n",
      "Stressed cluster for edge ('v_1', 'v_10') is ['v_10', 'v_1']\n",
      "Stressed cluster for edge ('v_2', 'v_9') is ['v_9', 'v_2', 'v_0', 'v_1']\n",
      "Stressed cluster for edge ('v_2', 'v_10') is ['v_10', 'v_2', 'v_0', 'v_1']\n",
      "Stressed cluster for edge ('v_3', 'v_4') is ['v_3', 'v_4']\n",
      "Stressed cluster for edge ('v_3', 'v_5') is ['v_3', 'v_5']\n",
      "Stressed cluster for edge ('v_3', 'v_7') is ['v_3', 'v_7']\n",
      "Stressed cluster for edge ('v_3', 'v_8') is ['v_3', 'v_8']\n",
      "Stressed cluster for edge ('v_3', 'v_11') is ['v_3', 'v_11']\n",
      "Stressed cluster for edge ('v_4', 'v_5') is ['v_4', 'v_5']\n",
      "Stressed cluster for edge ('v_4', 'v_6') is ['v_4', 'v_6']\n",
      "Stressed cluster for edge ('v_4', 'v_7') is ['v_4', 'v_7']\n",
      "Stressed cluster for edge ('v_4', 'v_8') is ['v_4', 'v_8']\n",
      "Stressed cluster for edge ('v_4', 'v_11') is ['v_4', 'v_11']\n",
      "Stressed cluster for edge ('v_4', 'v_12') is ['v_4', 'v_12']\n",
      "Stressed cluster for edge ('v_5', 'v_6') is ['v_5', 'v_6']\n",
      "Stressed cluster for edge ('v_5', 'v_7') is ['v_4', 'v_5', 'v_3', 'v_7']\n",
      "Stressed cluster for edge ('v_5', 'v_8') is ['v_4', 'v_5', 'v_3', 'v_8']\n",
      "Stressed cluster for edge ('v_5', 'v_11') is ['v_4', 'v_5', 'v_11', 'v_3']\n",
      "Stressed cluster for edge ('v_5', 'v_12') is ['v_5', 'v_12']\n",
      "Stressed cluster for edge ('v_5', 'v_13') is ['v_5', 'v_13']\n",
      "Stressed cluster for edge ('v_6', 'v_7') is ['v_3', 'v_6', 'v_5', 'v_7', 'v_4']\n",
      "Stressed cluster for edge ('v_6', 'v_8') is ['v_3', 'v_6', 'v_8', 'v_5', 'v_4']\n",
      "Stressed cluster for edge ('v_6', 'v_11') is ['v_3', 'v_11', 'v_6', 'v_5', 'v_4']\n",
      "Stressed cluster for edge ('v_6', 'v_12') is ['v_4', 'v_5', 'v_6', 'v_12']\n",
      "Stressed cluster for edge ('v_7', 'v_8') is ['v_4', 'v_3', 'v_8', 'v_7']\n",
      "Stressed cluster for edge ('v_7', 'v_11') is ['v_4', 'v_11', 'v_3', 'v_7']\n",
      "Stressed cluster for edge ('v_7', 'v_12') is ['v_3', 'v_7', 'v_5', 'v_12', 'v_4']\n",
      "Stressed cluster for edge ('v_7', 'v_13') is ['v_13', 'v_7']\n",
      "Stressed cluster for edge ('v_7', 'v_14') is ['v_14', 'v_7']\n",
      "Stressed cluster for edge ('v_7', 'v_15') is ['v_15', 'v_7']\n",
      "Stressed cluster for edge ('v_8', 'v_11') is ['v_4', 'v_11', 'v_3', 'v_8']\n",
      "Stressed cluster for edge ('v_8', 'v_12') is ['v_3', 'v_8', 'v_5', 'v_12', 'v_4']\n",
      "Stressed cluster for edge ('v_8', 'v_13') is ['v_3', 'v_13', 'v_8', 'v_5', 'v_7', 'v_4']\n",
      "Stressed cluster for edge ('v_8', 'v_14') is ['v_14', 'v_8']\n",
      "Stressed cluster for edge ('v_8', 'v_15') is ['v_15', 'v_8']\n",
      "Stressed cluster for edge ('v_9', 'v_10') is ['v_9', 'v_0', 'v_10', 'v_1']\n",
      "Stressed cluster for edge ('v_9', 'v_18') is ['v_18', 'v_9']\n",
      "Stressed cluster for edge ('v_10', 'v_18') is ['v_18', 'v_10']\n",
      "Stressed cluster for edge ('v_11', 'v_12') is ['v_3', 'v_11', 'v_5', 'v_12', 'v_4']\n",
      "Stressed cluster for edge ('v_11', 'v_13') is ['v_3', 'v_11', 'v_13', 'v_5', 'v_7', 'v_4']\n",
      "Stressed cluster for edge ('v_11', 'v_14') is ['v_14', 'v_3', 'v_11', 'v_8', 'v_7', 'v_4']\n",
      "Stressed cluster for edge ('v_11', 'v_15') is ['v_3', 'v_11', 'v_8', 'v_15', 'v_7', 'v_4']\n",
      "Stressed cluster for edge ('v_11', 'v_16') is ['v_11', 'v_16']\n",
      "Stressed cluster for edge ('v_11', 'v_17') is ['v_11', 'v_17']\n",
      "Stressed cluster for edge ('v_11', 'v_19') is ['v_11', 'v_19']\n",
      "Stressed cluster for edge ('v_12', 'v_13') is ['v_3', 'v_13', 'v_5', 'v_7', 'v_4', 'v_12']\n",
      "Stressed cluster for edge ('v_12', 'v_14') is ['v_14', 'v_3', 'v_8', 'v_5', 'v_7', 'v_4', 'v_12']\n",
      "Stressed cluster for edge ('v_12', 'v_15') is ['v_3', 'v_8', 'v_5', 'v_15', 'v_7', 'v_4', 'v_12']\n",
      "Stressed cluster for edge ('v_12', 'v_16') is ['v_16', 'v_12']\n",
      "Stressed cluster for edge ('v_12', 'v_17') is ['v_17', 'v_12']\n",
      "Stressed cluster for edge ('v_12', 'v_19') is ['v_19', 'v_12']\n",
      "Stressed cluster for edge ('v_13', 'v_14') is ['v_14', 'v_3', 'v_13', 'v_8', 'v_5', 'v_7', 'v_4']\n",
      "Stressed cluster for edge ('v_13', 'v_15') is ['v_3', 'v_13', 'v_8', 'v_5', 'v_15', 'v_7', 'v_4']\n",
      "Stressed cluster for edge ('v_13', 'v_16') is ['v_3', 'v_11', 'v_13', 'v_5', 'v_7', 'v_4', 'v_12', 'v_16']\n",
      "Stressed cluster for edge ('v_13', 'v_17') is ['v_3', 'v_7', 'v_11', 'v_13', 'v_5', 'v_12', 'v_4', 'v_17']\n",
      "Stressed cluster for edge ('v_13', 'v_19') is ['v_3', 'v_11', 'v_13', 'v_5', 'v_19', 'v_7', 'v_4', 'v_12']\n",
      "Stressed cluster for edge ('v_13', 'v_22') is ['v_13', 'v_22']\n",
      "Stressed cluster for edge ('v_13', 'v_24') is ['v_13', 'v_24']\n",
      "Stressed cluster for edge ('v_14', 'v_15') is ['v_14', 'v_3', 'v_8', 'v_15', 'v_7', 'v_4']\n",
      "Stressed cluster for edge ('v_14', 'v_16') is ['v_14', 'v_3', 'v_11', 'v_8', 'v_5', 'v_7', 'v_4', 'v_12', 'v_16']\n",
      "Stressed cluster for edge ('v_14', 'v_17') is ['v_14', 'v_3', 'v_11', 'v_8', 'v_5', 'v_7', 'v_4', 'v_17', 'v_12']\n",
      "Stressed cluster for edge ('v_14', 'v_19') is ['v_14', 'v_3', 'v_11', 'v_7', 'v_8', 'v_5', 'v_19', 'v_12', 'v_4']\n",
      "Stressed cluster for edge ('v_14', 'v_22') is ['v_14', 'v_22']\n",
      "Stressed cluster for edge ('v_14', 'v_24') is ['v_14', 'v_24']\n",
      "Stressed cluster for edge ('v_15', 'v_16') is ['v_3', 'v_11', 'v_8', 'v_5', 'v_15', 'v_7', 'v_4', 'v_12', 'v_16']\n",
      "Stressed cluster for edge ('v_15', 'v_17') is ['v_3', 'v_11', 'v_8', 'v_5', 'v_15', 'v_7', 'v_4', 'v_17', 'v_12']\n",
      "Stressed cluster for edge ('v_15', 'v_19') is ['v_3', 'v_11', 'v_7', 'v_8', 'v_5', 'v_15', 'v_19', 'v_12', 'v_4']\n",
      "Stressed cluster for edge ('v_15', 'v_22') is ['v_14', 'v_3', 'v_13', 'v_8', 'v_5', 'v_15', 'v_7', 'v_4', 'v_22']\n",
      "Stressed cluster for edge ('v_15', 'v_24') is ['v_14', 'v_3', 'v_13', 'v_8', 'v_5', 'v_15', 'v_7', 'v_4', 'v_24']\n",
      "Stressed cluster for edge ('v_16', 'v_17') is ['v_3', 'v_11', 'v_5', 'v_12', 'v_4', 'v_17', 'v_16']\n",
      "Stressed cluster for edge ('v_16', 'v_19') is ['v_3', 'v_11', 'v_5', 'v_19', 'v_12', 'v_4', 'v_16']\n",
      "Stressed cluster for edge ('v_16', 'v_20') is ['v_20', 'v_16']\n",
      "Stressed cluster for edge ('v_16', 'v_22') is ['v_14', 'v_3', 'v_11', 'v_13', 'v_8', 'v_5', 'v_7', 'v_4', 'v_12', 'v_16', 'v_22']\n",
      "Stressed cluster for edge ('v_17', 'v_19') is ['v_3', 'v_11', 'v_5', 'v_19', 'v_12', 'v_4', 'v_17']\n",
      "Stressed cluster for edge ('v_17', 'v_20') is ['v_17', 'v_20']\n",
      "Stressed cluster for edge ('v_17', 'v_22') is ['v_14', 'v_3', 'v_11', 'v_7', 'v_13', 'v_8', 'v_5', 'v_12', 'v_4', 'v_17', 'v_22']\n",
      "Stressed cluster for edge ('v_18', 'v_20') is ['v_18', 'v_20']\n",
      "Stressed cluster for edge ('v_18', 'v_21') is ['v_18', 'v_21']\n",
      "Stressed cluster for edge ('v_18', 'v_23') is ['v_18', 'v_23']\n",
      "Stressed cluster for edge ('v_19', 'v_20') is ['v_20', 'v_3', 'v_11', 'v_5', 'v_19', 'v_12', 'v_4', 'v_17', 'v_16']\n",
      "Stressed cluster for edge ('v_19', 'v_22') is ['v_14', 'v_3', 'v_11', 'v_13', 'v_8', 'v_5', 'v_19', 'v_7', 'v_4', 'v_12', 'v_22']\n",
      "Stressed cluster for edge ('v_19', 'v_24') is ['v_14', 'v_3', 'v_7', 'v_11', 'v_13', 'v_8', 'v_5', 'v_19', 'v_12', 'v_4', 'v_24']\n",
      "Stressed cluster for edge ('v_20', 'v_21') is ['v_20', 'v_21']\n",
      "Stressed cluster for edge ('v_20', 'v_23') is ['v_20', 'v_23']\n",
      "Stressed cluster for edge ('v_21', 'v_23') is ['v_18', 'v_20', 'v_23', 'v_21']\n",
      "Stressed cluster for edge ('v_22', 'v_24') is ['v_14', 'v_24', 'v_3', 'v_13', 'v_8', 'v_5', 'v_7', 'v_4', 'v_22']\n"
     ]
    }
   ],
   "source": [
    "for edge in edges[:]:\n",
    "    subgraph = lib.find_stressed_cluster(g, edge)\n",
    "    print(f\"Stressed cluster for edge {edge} is {[v for v in subgraph]}\")"
   ]
  },
  {
   "cell_type": "code",
   "execution_count": null,
   "id": "766683bf-1b8a-4db0-a90c-cb4597d9fcc0",
   "metadata": {},
   "outputs": [],
   "source": []
  }
 ],
 "metadata": {
  "kernelspec": {
   "display_name": "Python 3 (ipykernel)",
   "language": "python",
   "name": "python3"
  },
  "language_info": {
   "codemirror_mode": {
    "name": "ipython",
    "version": 3
   },
   "file_extension": ".py",
   "mimetype": "text/x-python",
   "name": "python",
   "nbconvert_exporter": "python",
   "pygments_lexer": "ipython3",
   "version": "3.9.5"
  }
 },
 "nbformat": 4,
 "nbformat_minor": 5
}
