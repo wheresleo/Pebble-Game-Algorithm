{
 "cells": [
  {
   "cell_type": "code",
   "execution_count": 1,
   "id": "1520488a-184d-4047-b375-c48dc74b9d5d",
   "metadata": {},
   "outputs": [],
   "source": [
    "import igraph\n",
    "import numpy as np\n",
    "import pandas as pd\n",
    "import pebble_game_algorithm.lib as lib"
   ]
  },
  {
   "cell_type": "code",
   "execution_count": 2,
   "id": "bd1827e3-c0bc-425d-84b1-b8962b5d60ad",
   "metadata": {},
   "outputs": [],
   "source": [
    "g = igraph.Graph.Formula('A,B,C,D,E,F,G,H,I,G ->')"
   ]
  },
  {
   "cell_type": "code",
   "execution_count": 3,
   "id": "460b8154-271f-4a09-8ee6-3b78b91de3ad",
   "metadata": {},
   "outputs": [
    {
     "name": "stdout",
     "output_type": "stream",
     "text": [
      "IGRAPH DN-- 9 0 --\n",
      "+ attr: name (v)\n"
     ]
    }
   ],
   "source": [
    "print(g)"
   ]
  },
  {
   "cell_type": "code",
   "execution_count": 4,
   "id": "00aa3d4d-39bc-4dbe-b501-f6631545f656",
   "metadata": {},
   "outputs": [],
   "source": [
    "edges = [\n",
    "    ('A', 'B'),\n",
    "    ('A', 'C'),\n",
    "    ('A', 'D'),\n",
    "    ('B', 'C'),\n",
    "    ('B', 'D'),\n",
    "    ('C', 'D'),\n",
    "    ('E', 'F'),\n",
    "    ('E', 'G'),\n",
    "    ('F', 'G'),\n",
    "    ('H', 'I'),\n",
    "]"
   ]
  },
  {
   "cell_type": "code",
   "execution_count": 5,
   "id": "fdd4ff1c-8ff8-43a9-b71c-9a038c3a3e12",
   "metadata": {},
   "outputs": [],
   "source": [
    "for v in g.vs:\n",
    "    v[\"free_pebble\"] = 2"
   ]
  },
  {
   "cell_type": "code",
   "execution_count": 6,
   "id": "ac54a363-281a-43cb-891d-569ffcc7f6af",
   "metadata": {},
   "outputs": [],
   "source": [
    "def find_free_pebble(root_vid):\n",
    "    \"\"\"Finds a node with a free pebble.\"\"\"\n",
    "    path = []\n",
    "    depth_last = -1\n",
    "    for (v, depth, _) in g.dfsiter(vid=root_vid, advanced=True, mode=\"out\"):\n",
    "        if depth != (depth_last + 1):\n",
    "            path = path[:depth]\n",
    "        path.append(v)\n",
    "        depth_last = depth\n",
    "        if v[\"free_pebble\"] > 0:\n",
    "            return path\n",
    "    return None"
   ]
  },
  {
   "cell_type": "code",
   "execution_count": 7,
   "id": "ecb51d2e-1ff2-4cc5-b823-b14b83db286f",
   "metadata": {},
   "outputs": [],
   "source": [
    "def transfer_pebble(g, path):\n",
    "    \"\"\"Moves a pebble on a path from one end to the other end.\"\"\"\n",
    "    start_node = path[0]\n",
    "    start_node[\"free_pebble\"] += 1\n",
    "    for node in path[1:]:\n",
    "        edge = g.get_eid(v1=start_node.index, v2=node.index)\n",
    "        g.delete_edges(edge)\n",
    "        g.add_edge(source=node, target=start_node)  # reverse the order\n",
    "        start_node = node\n",
    "    start_node[\"free_pebble\"] -= 1"
   ]
  },
  {
   "cell_type": "code",
   "execution_count": 8,
   "id": "c5c66c56-e286-4c59-a509-eacb6fae5f3b",
   "metadata": {},
   "outputs": [
    {
     "name": "stdout",
     "output_type": "stream",
     "text": [
      "Edge is redundant: ('C', 'D')\n"
     ]
    }
   ],
   "source": [
    "for edge in edges:\n",
    "    source, target = edge\n",
    "    independent = True\n",
    "    free_pebble = {source: 0, target: 0}\n",
    "    for root in [source, target, source, target]:\n",
    "        root_node = g.vs.find(root)\n",
    "        path = find_free_pebble(root_vid=root_node.index)\n",
    "        if path is None:\n",
    "            print(f\"Edge is redundant: {edge}\")\n",
    "            independent = False\n",
    "            break\n",
    "        transfer_pebble(g, path)\n",
    "        root_node[\"free_pebble\"] -= 1\n",
    "        free_pebble[root] += 1\n",
    "    for root in [source, target]:\n",
    "        g.vs.find(root)[\"free_pebble\"] += free_pebble[root]\n",
    "    if independent:\n",
    "        g.add_edge(source=source, target=target)\n",
    "        g.vs.find(source)[\"free_pebble\"] -=1"
   ]
  },
  {
   "cell_type": "code",
   "execution_count": 9,
   "id": "bb642a39-5492-4304-b9ff-8fe912361666",
   "metadata": {},
   "outputs": [
    {
     "name": "stdout",
     "output_type": "stream",
     "text": [
      "IGRAPH DN-- 9 9 --\n",
      "+ attr: free_pebble (v), name (v)\n",
      "+ edges (vertex names):\n",
      "B->D, A->C, B->C, A->B, D->A, E->G, E->F, F->G, H->I\n"
     ]
    }
   ],
   "source": [
    "print(g)"
   ]
  },
  {
   "cell_type": "code",
   "execution_count": 10,
   "id": "c315b2d1-9a60-455c-9bc7-1046cf1bed15",
   "metadata": {},
   "outputs": [],
   "source": [
    "def find_rigid_cluster(g, edge):\n",
    "    \"\"\"Identifies the rigid cluster containing the given edge.\"\"\"\n",
    "    source, target = edge\n",
    "    free_pebble = {source: 0, target: 0}\n",
    "    for root in [target, target, source]:\n",
    "        root_node = g.vs.find(root)\n",
    "        path = find_free_pebble(root_vid=root_node.index)\n",
    "        if path is None:\n",
    "            print(f\"Inconsistency Eror: no pebble found!\")\n",
    "            break\n",
    "        transfer_pebble(g, path)\n",
    "        root_node[\"free_pebble\"] -= 1\n",
    "        free_pebble[root] += 1\n",
    "    for root in [source, target]:\n",
    "        g.vs.find(root)[\"free_pebble\"] += free_pebble[root]\n",
    "\n",
    "    subgraph = set()\n",
    "    edges_buffer = []\n",
    "    g.vs[\"visited\"] = False\n",
    "    for root in [source, target]:\n",
    "        root_node = g.vs.find(root)\n",
    "        for (v, depth, parent) in g.dfsiter(vid=root_node.index, advanced=True, mode=\"in\"):\n",
    "            if parent is None:\n",
    "                subgraph.add(v)\n",
    "                continue\n",
    "            if v[\"visited\"]:\n",
    "                subgraph.add(v)\n",
    "            elif root == source:\n",
    "                v[\"visited\"] = True\n",
    "                edges_buffer.append((v[\"name\"], parent[\"name\"]))\n",
    "        if root == source:\n",
    "            g.delete_edges(edges_buffer)\n",
    "\n",
    "    g.add_edges(edges_buffer)\n",
    "\n",
    "    del g.vs[\"visited\"]\n",
    "    return subgraph"
   ]
  },
  {
   "cell_type": "code",
   "execution_count": 11,
   "id": "a60a15c1-7dc5-4118-a121-1a8095e75dae",
   "metadata": {},
   "outputs": [
    {
     "name": "stdout",
     "output_type": "stream",
     "text": [
      "Rigid cluster for edge ('A', 'B') is ['C', 'D', 'A', 'B']\n",
      "Rigid cluster for edge ('A', 'C') is ['C', 'D', 'A', 'B']\n",
      "Rigid cluster for edge ('A', 'D') is ['C', 'D', 'A', 'B']\n",
      "Rigid cluster for edge ('B', 'C') is ['C', 'D', 'A', 'B']\n",
      "Rigid cluster for edge ('B', 'D') is ['C', 'D', 'A', 'B']\n",
      "Rigid cluster for edge ('C', 'D') is ['C', 'D', 'A', 'B']\n",
      "Rigid cluster for edge ('E', 'F') is ['G', 'E', 'F']\n",
      "Rigid cluster for edge ('E', 'G') is ['G', 'E', 'F']\n",
      "Rigid cluster for edge ('F', 'G') is ['G', 'E', 'F']\n",
      "Rigid cluster for edge ('H', 'I') is ['I', 'H']\n"
     ]
    }
   ],
   "source": [
    "for edge in edges[:]:\n",
    "    subgraph = find_rigid_cluster(g, edge)\n",
    "    print(f\"Rigid cluster for edge {edge} is {[v['name'] for v in subgraph]}\")"
   ]
  },
  {
   "cell_type": "code",
   "execution_count": 12,
   "id": "e578af4a-5bed-412a-9464-3af71e57a0aa",
   "metadata": {},
   "outputs": [],
   "source": [
    "def find_stressed_cluster(g, edge):\n",
    "    \"\"\"Indentifies the stressed cluster containing the given bond.\"\"\"\n",
    "    source, target = edge\n",
    "    free_pebble = {source: 0, target: 0}\n",
    "    for root in [target, target, source]:\n",
    "        root_node = g.vs.find(root)\n",
    "        path = find_free_pebble(root_vid=root_node.index)\n",
    "        if path is None:\n",
    "            print(f\"Inconsistency Eror: no pebble found!\")\n",
    "            break\n",
    "        transfer_pebble(g, path)\n",
    "        root_node[\"free_pebble\"] -= 1\n",
    "        free_pebble[root] += 1\n",
    "    for root in [source, target]:\n",
    "        g.vs.find(root)[\"free_pebble\"] += free_pebble[root]\n",
    "        \n",
    "    subgraph = set()\n",
    "    root_node = g.vs.find(source)\n",
    "    for v in g.dfsiter(vid=root_node.index, mode=\"out\"):\n",
    "        subgraph.add(v)\n",
    "\n",
    "    return subgraph"
   ]
  },
  {
   "cell_type": "code",
   "execution_count": 13,
   "id": "42ae887a-8b89-4750-b3ab-2783162b0340",
   "metadata": {},
   "outputs": [
    {
     "name": "stdout",
     "output_type": "stream",
     "text": [
      "Stressed cluster for edge ('A', 'B') is ['A', 'B']\n",
      "Stressed cluster for edge ('A', 'C') is ['C', 'A']\n",
      "Stressed cluster for edge ('A', 'D') is ['D', 'A']\n",
      "Stressed cluster for edge ('B', 'C') is ['C', 'B']\n",
      "Stressed cluster for edge ('B', 'D') is ['D', 'B']\n",
      "Stressed cluster for edge ('C', 'D') is ['C', 'D', 'A', 'B']\n",
      "Stressed cluster for edge ('E', 'F') is ['E', 'F']\n",
      "Stressed cluster for edge ('E', 'G') is ['G', 'E']\n",
      "Stressed cluster for edge ('F', 'G') is ['G', 'F']\n",
      "Stressed cluster for edge ('H', 'I') is ['I', 'H']\n"
     ]
    }
   ],
   "source": [
    "for edge in edges[:]:\n",
    "    subgraph = find_stressed_cluster(g, edge)\n",
    "    print(f\"Stressed cluster for edge {edge} is {[v['name'] for v in subgraph]}\")"
   ]
  },
  {
   "cell_type": "code",
   "execution_count": null,
   "id": "86c3bed7-4ddc-41f6-837b-2cc4bb1d49df",
   "metadata": {},
   "outputs": [],
   "source": []
  }
 ],
 "metadata": {
  "kernelspec": {
   "display_name": "Python 3 (ipykernel)",
   "language": "python",
   "name": "python3"
  },
  "language_info": {
   "codemirror_mode": {
    "name": "ipython",
    "version": 3
   },
   "file_extension": ".py",
   "mimetype": "text/x-python",
   "name": "python",
   "nbconvert_exporter": "python",
   "pygments_lexer": "ipython3",
   "version": "3.9.5"
  }
 },
 "nbformat": 4,
 "nbformat_minor": 5
}
