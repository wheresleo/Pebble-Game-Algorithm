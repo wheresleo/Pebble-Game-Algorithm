{
 "cells": [
  {
   "cell_type": "code",
   "execution_count": 46,
   "id": "c0dbf43e-3393-4843-b703-53dc9d1dad0a",
   "metadata": {},
   "outputs": [],
   "source": [
    "import ipycanvas\n",
    "import ipywidgets\n",
    "import numpy as np\n",
    "import time"
   ]
  },
  {
   "cell_type": "code",
   "execution_count": 61,
   "id": "7217f2d8-6614-48b4-9b45-bd73c9762e77",
   "metadata": {},
   "outputs": [
    {
     "data": {
      "application/vnd.jupyter.widget-view+json": {
       "model_id": "07c5100aef8f457684ffbb6cb984f817",
       "version_major": 2,
       "version_minor": 0
      },
      "text/plain": [
       "Canvas(height=200, width=200)"
      ]
     },
     "metadata": {},
     "output_type": "display_data"
    }
   ],
   "source": [
    "canvas = ipycanvas.Canvas(width=200, height=200)\n",
    "canvas.fill_style = 'green'\n",
    "canvas.fill_circle(10, 10, 5)\n",
    "canvas.fill_circle(25, 10, 5)\n",
    "canvas.stroke_line(10, 10, 100, 100)\n",
    "canvas"
   ]
  },
  {
   "cell_type": "code",
   "execution_count": 34,
   "id": "b2468493-f237-41f1-9a8b-a60b18127690",
   "metadata": {},
   "outputs": [
    {
     "data": {
      "application/vnd.jupyter.widget-view+json": {
       "model_id": "cc6765eba47d40259e55f9b73e4abb92",
       "version_major": 2,
       "version_minor": 0
      },
      "text/plain": [
       "Canvas(height=200, width=200)"
      ]
     },
     "metadata": {},
     "output_type": "display_data"
    }
   ],
   "source": [
    "canvas = ipycanvas.Canvas(width=200, height=200)\n",
    "num_steps = 100\n",
    "duration = 20\n",
    "display(canvas)\n",
    "\n",
    "with ipycanvas.hold_canvas(canvas):\n",
    "    for i in range(num_steps):\n",
    "        canvas.clear()\n",
    "        canvas.fill_style = \"green\"\n",
    "        canvas.fill_circle(i, i, 5 * np.log(i+1.0))\n",
    "        canvas.sleep(duration)\n",
    "        "
   ]
  },
  {
   "cell_type": "code",
   "execution_count": 92,
   "id": "025a87f7-e64a-4680-88a0-fd8c2bdbd628",
   "metadata": {},
   "outputs": [
    {
     "data": {
      "application/vnd.jupyter.widget-view+json": {
       "model_id": "7b63de65541f41bd84748160b83d7542",
       "version_major": 2,
       "version_minor": 0
      },
      "text/plain": [
       "Button(button_style='success', description='Undo', style=ButtonStyle(), tooltip='Undo')"
      ]
     },
     "metadata": {},
     "output_type": "display_data"
    },
    {
     "data": {
      "application/vnd.jupyter.widget-view+json": {
       "model_id": "7ddf2878fcfc4bf7a150feccb7dcc9a0",
       "version_major": 2,
       "version_minor": 0
      },
      "text/plain": [
       "Canvas(height=200, width=200)"
      ]
     },
     "metadata": {},
     "output_type": "display_data"
    }
   ],
   "source": [
    "canvas = ipycanvas.Canvas(width=200, height=200)\n",
    "state = []\n",
    "\n",
    "def handle_mouse_down(x, y):\n",
    "    canvas.fill_style = \"blue\"\n",
    "    canvas.fill_circle(x, y, 2)\n",
    "    if state:\n",
    "        last_x, last_y = state[-1]\n",
    "        canvas.stroke_line(last_x, last_y, x, y)\n",
    "    state.append((x, y))\n",
    "\n",
    "canvas.on_mouse_down(handle_mouse_down)\n",
    "\n",
    "button = ipywidgets.widgets.Button(\n",
    "    description='Undo',\n",
    "    disabled=False,\n",
    "    button_style='success', # 'success', 'info', 'warning', 'danger' or ''\n",
    "    tooltip='Undo',\n",
    "    icon=''\n",
    ")\n",
    "output = ipywidgets.widgets.Output()\n",
    "\n",
    "def button_on_click(button):\n",
    "    canvas.clear()\n",
    "    with output:\n",
    "        print(state)\n",
    "    if state:\n",
    "        state.pop(-1)\n",
    "    last_point = None\n",
    "    with ipycanvas.hold_canvas(canvas):\n",
    "        for point in state:\n",
    "            x, y = point\n",
    "            canvas.fill_style = \"blue\"\n",
    "            canvas.fill_circle(x, y, 2)\n",
    "            if last_point:\n",
    "                last_x, last_y = last_point\n",
    "                canvas.stroke_line(last_x, last_y, x, y)\n",
    "            last_point = point\n",
    "            canvas.sleep(100)\n",
    "            \n",
    "    \n",
    "\n",
    "button.on_click(button_on_click)\n",
    "display(button)\n",
    "display(canvas)"
   ]
  },
  {
   "cell_type": "code",
   "execution_count": 89,
   "id": "9557fb99-6bbc-4c17-9612-ca18df7034cd",
   "metadata": {},
   "outputs": [
    {
     "data": {
      "application/vnd.jupyter.widget-view+json": {
       "model_id": "d86b07caf2fa4c0aa6282bb622a637f4",
       "version_major": 2,
       "version_minor": 0
      },
      "text/plain": [
       "Output()"
      ]
     },
     "metadata": {},
     "output_type": "display_data"
    }
   ],
   "source": [
    "display(output)"
   ]
  },
  {
   "cell_type": "code",
   "execution_count": null,
   "id": "6609a5b7-6f33-4281-8ad2-a584ba904988",
   "metadata": {},
   "outputs": [],
   "source": []
  }
 ],
 "metadata": {
  "kernelspec": {
   "display_name": "Python 3 (ipykernel)",
   "language": "python",
   "name": "python3"
  },
  "language_info": {
   "codemirror_mode": {
    "name": "ipython",
    "version": 3
   },
   "file_extension": ".py",
   "mimetype": "text/x-python",
   "name": "python",
   "nbconvert_exporter": "python",
   "pygments_lexer": "ipython3",
   "version": "3.9.5"
  }
 },
 "nbformat": 4,
 "nbformat_minor": 5
}
