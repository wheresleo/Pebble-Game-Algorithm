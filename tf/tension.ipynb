{
 "cells": [
  {
   "cell_type": "code",
   "execution_count": 95,
   "id": "cb7c1142-df73-4a0b-aae7-b435911fa67d",
   "metadata": {},
   "outputs": [],
   "source": [
    "import tensorflow as tf\n",
    "import numpy as np\n",
    "import ipycanvas\n",
    "import ipywidgets\n",
    "import igraph"
   ]
  },
  {
   "cell_type": "code",
   "execution_count": 96,
   "id": "366ba724-bf9c-472c-9d21-82b9a6fbbe3f",
   "metadata": {},
   "outputs": [],
   "source": [
    "tf.config.set_visible_devices([], 'GPU')"
   ]
  },
  {
   "cell_type": "code",
   "execution_count": 97,
   "id": "6473978f-d1b1-4474-b1a3-8ec323c2786c",
   "metadata": {},
   "outputs": [],
   "source": [
    "connection = np.loadtxt(\"connection.csv\", )\n",
    "pos = np.loadtxt(\"position.csv\", )\n",
    "radius = np.loadtxt(\"radius.csv\", )"
   ]
  },
  {
   "cell_type": "code",
   "execution_count": 98,
   "id": "c438e297-e6fa-49a4-b225-d33559596c48",
   "metadata": {},
   "outputs": [],
   "source": [
    "rest_length = np.sqrt(\n",
    "    np.square((pos[:, 0:1] - (pos[:, 0:1]).transpose())) \n",
    "    + np.square((pos[:, 1:2] - (pos[:, 1:2]).transpose()))\n",
    ")"
   ]
  },
  {
   "cell_type": "code",
   "execution_count": 99,
   "id": "cee7ba2c-d87a-4e2a-af59-8b2324bb5d9f",
   "metadata": {},
   "outputs": [
    {
     "name": "stdout",
     "output_type": "stream",
     "text": [
      "Found 0 rattlers\n"
     ]
    }
   ],
   "source": [
    "n_particles = pos.shape[0]\n",
    "\n",
    "connected_particles = np.unique(np.argwhere(connection - np.eye(n_particles)).flatten())\n",
    "rattlers = set(range(n_particles)) - set(connected_particles)\n",
    "\n",
    "print(\"Found %i rattlers\" % len(rattlers))"
   ]
  },
  {
   "cell_type": "code",
   "execution_count": 100,
   "id": "f3b8d105-49fe-4c21-ba30-98fee617d572",
   "metadata": {},
   "outputs": [],
   "source": [
    "active_layer_depth = 0.8\n",
    "fixed_layer_depth = (1.0 - active_layer_depth) / 2.0\n",
    "strain_unit = 1e-2 * 5\n",
    "breaking_limit = 1e-2\n",
    "\n",
    "\n",
    "# reverse top / bottom because canvas plots small y higher\n",
    "bottom_layer = np.where(pos[:, 1] > (active_layer_depth + fixed_layer_depth), np.ones_like(pos[:, 1]), np.zeros_like(pos[:, 1]))\n",
    "top_layer = np.where(pos[:, 1] < fixed_layer_depth, np.ones_like(pos[:, 1]), np.zeros_like(pos[:, 1]))\n",
    "active_layer = np.ones_like(pos[:, 1]) - top_layer - bottom_layer\n",
    "\n",
    "\n",
    "grad_mask = np.zeros_like(pos)\n",
    "grad_mask[:, 0] = active_layer\n",
    "grad_mask[:, 1] = active_layer\n",
    "\n",
    "unit_y_strain = np.zeros_like(pos)\n",
    "unit_y_strain[:, 0] = strain_unit * top_layer"
   ]
  },
  {
   "cell_type": "code",
   "execution_count": 101,
   "id": "4b8c62d5-19cc-4245-a9a4-ff43cebe57aa",
   "metadata": {},
   "outputs": [],
   "source": [
    "for i in rattlers:\n",
    "    radius[i] = 0.0  # removes rattlers in visualization"
   ]
  },
  {
   "cell_type": "code",
   "execution_count": 102,
   "id": "8fb48695-2ad8-4861-9a3c-dd9f376d88f8",
   "metadata": {},
   "outputs": [],
   "source": [
    "pos = tf.Variable(initial_value=pos, dtype=tf.float32)\n",
    "radius = tf.constant(radius, dtype=pos.dtype)\n",
    "rest_length = tf.constant(rest_length, dtype=pos.dtype)\n",
    "connection = tf.constant(connection, dtype=pos.dtype)\n",
    "connection_original = tf.constant(connection, dtype=pos.dtype)\n",
    "breaking_limit = tf.constant(breaking_limit, dtype=pos.dtype)\n",
    "\n",
    "unit_y_strain = tf.constant(unit_y_strain, dtype=pos.dtype)\n",
    "grad_mask = tf.constant(grad_mask, dtype=pos.dtype)\n",
    "\n",
    "half = tf.constant(0.5, dtype=pos.dtype)\n",
    "one = tf.constant(1.0, dtype=pos.dtype)\n",
    "zero = tf.constant(0.0, dtype=pos.dtype)\n",
    "epsilon = tf.constant(1e-12, dtype=pos.dtype)"
   ]
  },
  {
   "cell_type": "code",
   "execution_count": 103,
   "id": "30ed2bf5-5bf6-4c76-bc26-a2012f2aa281",
   "metadata": {},
   "outputs": [],
   "source": [
    "width = 600\n",
    "padding = 200\n",
    "def visual(canvas, pos, rest_length, connection, radius, broken_connection=None):\n",
    "    \"\"\"Plots the connection network.\"\"\"\n",
    "    canvas.clear()\n",
    "    canvas.fill_style = \"blue\"\n",
    "    canvas.global_alpha = 0.12 * 5\n",
    "    n_particles = pos.shape[0]\n",
    "    scale = width\n",
    "    links = np.argwhere(connection)  # edges\n",
    "    if broken_connection is not None:\n",
    "        broken_links = np.argwhere(broken_connection) # broken links\n",
    "    else:\n",
    "        broken_links = []\n",
    "    with ipycanvas.hold_canvas(canvas):\n",
    "        # for i in range(n_particles):\n",
    "        #     canvas.fill_circle(scale * pos[i, 0] + padding / 2, scale * pos[i, 1] + padding / 2, scale * radius[i])\n",
    "        \n",
    "        canvas.stroke_style = \"red\"\n",
    "        for (i, j) in links:\n",
    "            if i < j:\n",
    "                extension = np.sqrt(np.square(pos[i, 0] - pos[j, 0]) + np.square(pos[i, 1] - pos[j, 1])) - (rest_length[i][j])\n",
    "                canvas.line_width = scale * np.abs(extension).astype(np.float)\n",
    "                canvas.stroke_line(scale * pos[i, 0] + padding / 2, scale * pos[i, 1] + padding / 2,\n",
    "                                   scale * pos[j, 0] + padding / 2, scale * pos[j, 1] + padding / 2)\n",
    "        \n",
    "        canvas.stroke_style = \"black\"\n",
    "        for (i, j) in links:\n",
    "            if i < j:\n",
    "                canvas.line_width = 1.0\n",
    "                canvas.stroke_line(scale * pos[i, 0] + padding / 2, scale * pos[i, 1] + padding / 2,\n",
    "                                   scale * pos[j, 0] + padding / 2, scale * pos[j, 1] + padding / 2)\n",
    "        \n",
    "        canvas.stroke_style = \"orange\"\n",
    "        for (i, j) in broken_links:\n",
    "            if i < j:\n",
    "                extension = np.sqrt(np.square(pos[i, 0] - pos[j, 0]) + np.square(pos[i, 1] - pos[j, 1])) - (rest_length[i][j])\n",
    "                canvas.line_width = 5.0\n",
    "                canvas.stroke_line(scale * pos[i, 0] + padding / 2, scale * pos[i, 1] + padding / 2,\n",
    "                                   scale * pos[j, 0] + padding / 2, scale * pos[j, 1] + padding / 2)\n",
    "            "
   ]
  },
  {
   "cell_type": "code",
   "execution_count": 104,
   "id": "1cfd0b1b-f403-4509-a412-d653f07ec36c",
   "metadata": {},
   "outputs": [
    {
     "data": {
      "application/vnd.jupyter.widget-view+json": {
       "model_id": "ba66172548884f07a28a48ef44d1a3ae",
       "version_major": 2,
       "version_minor": 0
      },
      "text/plain": [
       "Canvas(height=800, width=800)"
      ]
     },
     "metadata": {},
     "output_type": "display_data"
    }
   ],
   "source": [
    "canvas = ipycanvas.Canvas(width=width+padding, height=width+padding)\n",
    "visual(canvas, pos.numpy(), rest_length.numpy(), connection.numpy(), radius.numpy())\n",
    "display(canvas)"
   ]
  },
  {
   "cell_type": "code",
   "execution_count": 105,
   "id": "09f368bd-5734-4e13-a1ae-a479017dd20f",
   "metadata": {},
   "outputs": [],
   "source": [
    "@tf.function    \n",
    "def energy_matrix(position: tf.Tensor, rest_length: tf.Tensor, connection: tf.Tensor):\n",
    "    \"\"\"Calculates the total potential energy.\"\"\"\n",
    "    x = position[:, 0:1]\n",
    "    y = position[:, 1:2]\n",
    "    dx = x - tf.transpose(x)\n",
    "    dy = y - tf.transpose(y)\n",
    "    distance_square_matrix = tf.square(dx) + tf.square(dy)\n",
    "    cutoff_matrix = rest_length\n",
    "    distance_matrix = tf.math.sqrt(epsilon + distance_square_matrix)\n",
    "    energy_matrix = half * tf.math.square(tf.multiply(connection, distance_matrix - cutoff_matrix))\n",
    "    energy = half * (tf.reduce_sum(energy_matrix) - tf.linalg.trace(energy_matrix))\n",
    "    return energy\n",
    "\n",
    "# @tf.function\n",
    "def update_connection(position: tf.Tensor, rest_length: tf.Tensor, connection: tf.Tensor, breaking_limit: tf.Tensor):\n",
    "    \"\"\"Updates the connection.\"\"\"\n",
    "    x = position[:, 0:1]\n",
    "    y = position[:, 1:2]\n",
    "    dx = x - tf.transpose(x)\n",
    "    dy = y - tf.transpose(y)\n",
    "    distance_square_matrix = tf.square(dx) + tf.square(dy)\n",
    "    cutoff_matrix = (rest_length) * (one + breaking_limit)\n",
    "    distance_matrix = tf.math.sqrt(epsilon + distance_square_matrix)\n",
    "    \n",
    "    excess_matrix = tf.multiply(connection, distance_matrix - cutoff_matrix)\n",
    "    excess_max = tf.reduce_max(excess_matrix)\n",
    "    if excess_max > 0:\n",
    "        connection = tf.where(excess_matrix == excess_max, tf.zeros_like(connection), connection)\n",
    "    return connection"
   ]
  },
  {
   "cell_type": "code",
   "execution_count": 106,
   "id": "09213685-d636-473e-8c98-34a7416a633e",
   "metadata": {},
   "outputs": [
    {
     "data": {
      "text/plain": [
       "<tf.Tensor: shape=(3, 3), dtype=int32, numpy=\n",
       "array([[0, 0, 0],\n",
       "       [0, 0, 1],\n",
       "       [0, 0, 0]], dtype=int32)>"
      ]
     },
     "execution_count": 106,
     "metadata": {},
     "output_type": "execute_result"
    }
   ],
   "source": [
    "tf.scatter_nd(\n",
    "    indices=[[1,2]], updates=[1], shape=[3,3], name=None\n",
    ")"
   ]
  },
  {
   "cell_type": "code",
   "execution_count": 107,
   "id": "1e39a7b1-ddae-4985-845f-51ec3dc0c2c0",
   "metadata": {},
   "outputs": [
    {
     "data": {
      "text/plain": [
       "<tf.Tensor: shape=(), dtype=float32, numpy=1.323594e-15>"
      ]
     },
     "execution_count": 107,
     "metadata": {},
     "output_type": "execute_result"
    }
   ],
   "source": [
    "energy_matrix(pos, rest_length, connection)"
   ]
  },
  {
   "cell_type": "code",
   "execution_count": 108,
   "id": "1a13100e-ddc0-404b-9308-3cdc1db8fc1e",
   "metadata": {},
   "outputs": [],
   "source": [
    "output = ipywidgets.widgets.Output()"
   ]
  },
  {
   "cell_type": "code",
   "execution_count": 109,
   "id": "2ae0d70f-411e-4838-817b-ceb9080ceb67",
   "metadata": {},
   "outputs": [
    {
     "data": {
      "application/vnd.jupyter.widget-view+json": {
       "model_id": "ba66172548884f07a28a48ef44d1a3ae",
       "version_major": 2,
       "version_minor": 0
      },
      "text/plain": [
       "Canvas(height=800, width=800)"
      ]
     },
     "metadata": {},
     "output_type": "display_data"
    }
   ],
   "source": [
    "display(canvas)"
   ]
  },
  {
   "cell_type": "code",
   "execution_count": 110,
   "id": "facb12e1-4428-467f-a365-5ef174df3c22",
   "metadata": {},
   "outputs": [
    {
     "data": {
      "application/vnd.jupyter.widget-view+json": {
       "model_id": "90dd1c7693664980b1ad0a535431e903",
       "version_major": 2,
       "version_minor": 0
      },
      "text/plain": [
       "Output()"
      ]
     },
     "metadata": {},
     "output_type": "display_data"
    }
   ],
   "source": [
    "display(output)"
   ]
  },
  {
   "cell_type": "code",
   "execution_count": 111,
   "id": "03111ae1-58c9-40b2-bdf9-1978dface942",
   "metadata": {},
   "outputs": [
    {
     "data": {
      "text/plain": [
       "<tf.Tensor: shape=(), dtype=float32, numpy=0.30670738>"
      ]
     },
     "execution_count": 111,
     "metadata": {},
     "output_type": "execute_result"
    }
   ],
   "source": [
    "energy_matrix(pos, radius, connection)"
   ]
  },
  {
   "cell_type": "code",
   "execution_count": 112,
   "id": "1a383375-bbc8-499d-8dcf-f0d673d955f3",
   "metadata": {},
   "outputs": [
    {
     "ename": "KeyboardInterrupt",
     "evalue": "",
     "output_type": "error",
     "traceback": [
      "\u001b[0;31m---------------------------------------------------------------------------\u001b[0m",
      "\u001b[0;31mKeyboardInterrupt\u001b[0m                         Traceback (most recent call last)",
      "\u001b[0;32m/var/folders/fq/sqzffsld3xl8qrzw8772z5mh0000gn/T/ipykernel_43907/823502459.py\u001b[0m in \u001b[0;36m<module>\u001b[0;34m\u001b[0m\n\u001b[1;32m     33\u001b[0m     \u001b[0moptimizer\u001b[0m\u001b[0;34m.\u001b[0m\u001b[0mapply_gradients\u001b[0m\u001b[0;34m(\u001b[0m\u001b[0mzip\u001b[0m\u001b[0;34m(\u001b[0m\u001b[0;34m[\u001b[0m\u001b[0mgrad\u001b[0m\u001b[0;34m]\u001b[0m\u001b[0;34m,\u001b[0m \u001b[0;34m[\u001b[0m\u001b[0mpos\u001b[0m\u001b[0;34m]\u001b[0m\u001b[0;34m)\u001b[0m\u001b[0;34m)\u001b[0m\u001b[0;34m\u001b[0m\u001b[0;34m\u001b[0m\u001b[0m\n\u001b[1;32m     34\u001b[0m     \u001b[0;32mwith\u001b[0m \u001b[0mipycanvas\u001b[0m\u001b[0;34m.\u001b[0m\u001b[0mhold_canvas\u001b[0m\u001b[0;34m(\u001b[0m\u001b[0mcanvas\u001b[0m\u001b[0;34m)\u001b[0m\u001b[0;34m:\u001b[0m\u001b[0;34m\u001b[0m\u001b[0;34m\u001b[0m\u001b[0m\n\u001b[0;32m---> 35\u001b[0;31m         \u001b[0mvisual\u001b[0m\u001b[0;34m(\u001b[0m\u001b[0mcanvas\u001b[0m\u001b[0;34m,\u001b[0m \u001b[0mpos\u001b[0m\u001b[0;34m.\u001b[0m\u001b[0mnumpy\u001b[0m\u001b[0;34m(\u001b[0m\u001b[0;34m)\u001b[0m\u001b[0;34m,\u001b[0m \u001b[0mrest_length\u001b[0m\u001b[0;34m.\u001b[0m\u001b[0mnumpy\u001b[0m\u001b[0;34m(\u001b[0m\u001b[0;34m)\u001b[0m\u001b[0;34m,\u001b[0m \u001b[0mconnection\u001b[0m\u001b[0;34m.\u001b[0m\u001b[0mnumpy\u001b[0m\u001b[0;34m(\u001b[0m\u001b[0;34m)\u001b[0m\u001b[0;34m,\u001b[0m \u001b[0mradius\u001b[0m\u001b[0;34m.\u001b[0m\u001b[0mnumpy\u001b[0m\u001b[0;34m(\u001b[0m\u001b[0;34m)\u001b[0m\u001b[0;34m,\u001b[0m \u001b[0mbroken_connection\u001b[0m\u001b[0;34m=\u001b[0m\u001b[0;34m(\u001b[0m\u001b[0mconnection_original\u001b[0m\u001b[0;34m.\u001b[0m\u001b[0mnumpy\u001b[0m\u001b[0;34m(\u001b[0m\u001b[0;34m)\u001b[0m \u001b[0;34m-\u001b[0m \u001b[0mconnection\u001b[0m\u001b[0;34m.\u001b[0m\u001b[0mnumpy\u001b[0m\u001b[0;34m(\u001b[0m\u001b[0;34m)\u001b[0m\u001b[0;34m)\u001b[0m\u001b[0;34m)\u001b[0m\u001b[0;34m\u001b[0m\u001b[0;34m\u001b[0m\u001b[0m\n\u001b[0m\u001b[1;32m     36\u001b[0m     \u001b[0;32mwith\u001b[0m \u001b[0moutput\u001b[0m\u001b[0;34m:\u001b[0m\u001b[0;34m\u001b[0m\u001b[0;34m\u001b[0m\u001b[0m\n\u001b[1;32m     37\u001b[0m         \u001b[0moutput\u001b[0m\u001b[0;34m.\u001b[0m\u001b[0mclear_output\u001b[0m\u001b[0;34m(\u001b[0m\u001b[0;34m)\u001b[0m\u001b[0;34m\u001b[0m\u001b[0;34m\u001b[0m\u001b[0m\n",
      "\u001b[0;32m/var/folders/fq/sqzffsld3xl8qrzw8772z5mh0000gn/T/ipykernel_43907/1889410818.py\u001b[0m in \u001b[0;36mvisual\u001b[0;34m(canvas, pos, rest_length, connection, radius, broken_connection)\u001b[0m\n\u001b[1;32m     30\u001b[0m                 \u001b[0mcanvas\u001b[0m\u001b[0;34m.\u001b[0m\u001b[0mline_width\u001b[0m \u001b[0;34m=\u001b[0m \u001b[0;36m1.0\u001b[0m\u001b[0;34m\u001b[0m\u001b[0;34m\u001b[0m\u001b[0m\n\u001b[1;32m     31\u001b[0m                 canvas.stroke_line(scale * pos[i, 0] + padding / 2, scale * pos[i, 1] + padding / 2,\n\u001b[0;32m---> 32\u001b[0;31m                                    scale * pos[j, 0] + padding / 2, scale * pos[j, 1] + padding / 2)\n\u001b[0m\u001b[1;32m     33\u001b[0m \u001b[0;34m\u001b[0m\u001b[0m\n\u001b[1;32m     34\u001b[0m         \u001b[0mcanvas\u001b[0m\u001b[0;34m.\u001b[0m\u001b[0mstroke_style\u001b[0m \u001b[0;34m=\u001b[0m \u001b[0;34m\"orange\"\u001b[0m\u001b[0;34m\u001b[0m\u001b[0;34m\u001b[0m\u001b[0m\n",
      "\u001b[0;31mKeyboardInterrupt\u001b[0m: "
     ]
    }
   ],
   "source": [
    "# schedule = tf.keras.optimizers.schedules.ExponentialDecay(\n",
    "#     initial_learning_rate=3e-1, decay_steps=100, decay_rate=0.95, \n",
    "# )\n",
    "# optimizer = tf.keras.optimizers.SGD(learning_rate=schedule, momentum=0.9, )\n",
    "schedule = tf.keras.optimizers.schedules.ExponentialDecay(\n",
    "    initial_learning_rate=1e-3, decay_steps=100, decay_rate=0.9, \n",
    ")\n",
    "optimizer = tf.keras.optimizers.Adam(learning_rate=schedule)\n",
    "\n",
    "\n",
    "steps = 10000\n",
    "strain_steps = 0\n",
    "balanced_limit = 1e-6\n",
    "balanced = False\n",
    "for step in range(steps):\n",
    "    if balanced:\n",
    "        connection_new = update_connection(pos, rest_length, connection, breaking_limit)\n",
    "        if np.alltrue(connection.numpy() == connection_new.numpy()):\n",
    "            # new connections to break\n",
    "            pos.assign_add(unit_y_strain)  # add y strain\n",
    "            strain_steps += 1\n",
    "        else:\n",
    "            connection = connection_new  # breaks some connections\n",
    "        \n",
    "        balanced = False\n",
    "        for var in optimizer.variables():\n",
    "            var.assign(tf.zeros_like(var))   # resets optimizer memory\n",
    "\n",
    "    with tf.GradientTape() as tape:\n",
    "        total_energy = energy_matrix(pos, rest_length, connection, )\n",
    "    grad = tape.gradient(total_energy, pos)\n",
    "    grad = tf.multiply(grad_mask, grad)\n",
    "    optimizer.apply_gradients(zip([grad], [pos]))\n",
    "    with ipycanvas.hold_canvas(canvas):\n",
    "        visual(canvas, pos.numpy(), rest_length.numpy(), connection.numpy(), radius.numpy(), broken_connection=(connection_original.numpy() - connection.numpy()))\n",
    "    with output:\n",
    "        output.clear_output()\n",
    "        print(\"%i strain steps applied.\" % strain_steps)\n",
    "        print(\"max grad = %.2e\" % tf.reduce_max(tf.abs(grad)).numpy())\n",
    "    if tf.reduce_max(tf.abs(grad)).numpy() < balanced_limit:   # all particles are balanced\n",
    "        balanced = True"
   ]
  },
  {
   "cell_type": "code",
   "execution_count": null,
   "id": "5eedd2df-8b6d-43a8-affb-0047fd2cb8f9",
   "metadata": {},
   "outputs": [],
   "source": [
    "grad_mask.shape"
   ]
  },
  {
   "cell_type": "code",
   "execution_count": null,
   "id": "0535c0e6-128f-481e-aea6-d05fa2ad869e",
   "metadata": {},
   "outputs": [],
   "source": []
  }
 ],
 "metadata": {
  "kernelspec": {
   "display_name": "Python 3 (ipykernel)",
   "language": "python",
   "name": "python3"
  },
  "language_info": {
   "codemirror_mode": {
    "name": "ipython",
    "version": 3
   },
   "file_extension": ".py",
   "mimetype": "text/x-python",
   "name": "python",
   "nbconvert_exporter": "python",
   "pygments_lexer": "ipython3",
   "version": "3.9.5"
  }
 },
 "nbformat": 4,
 "nbformat_minor": 5
}
