{
 "cells": [
  {
   "cell_type": "code",
   "execution_count": 1313,
   "id": "f2498399-97aa-4b03-a532-38b37a0972ea",
   "metadata": {},
   "outputs": [],
   "source": [
    "import tensorflow as tf\n",
    "import numpy as np\n",
    "import ipycanvas\n",
    "import ipywidgets\n",
    "import pandas as pd"
   ]
  },
  {
   "cell_type": "code",
   "execution_count": 1314,
   "id": "8df8e9dd-4291-4fb4-afa4-719b9e51f23e",
   "metadata": {},
   "outputs": [
    {
     "data": {
      "text/plain": [
       "'2.7.0'"
      ]
     },
     "execution_count": 1314,
     "metadata": {},
     "output_type": "execute_result"
    }
   ],
   "source": [
    "tf.__version__"
   ]
  },
  {
   "cell_type": "code",
   "execution_count": 1315,
   "id": "dcea52bf-14e4-4406-88f9-0697bea20bc6",
   "metadata": {},
   "outputs": [],
   "source": [
    "tf.config.set_visible_devices([], 'GPU')"
   ]
  },
  {
   "cell_type": "code",
   "execution_count": 1316,
   "id": "ace26b5f-d652-4d03-9b04-367b5c4e4556",
   "metadata": {},
   "outputs": [],
   "source": [
    "n_particle = 512\n",
    "initial_position = np.random.rand(n_particle, 2)\n",
    "max_radius = 2\n",
    "min_radius = 1\n",
    "radius = (max_radius - min_radius) * np.random.rand(n_particle, 1) + min_radius\n",
    "radius = radius.reshape(n_particle, 1)\n",
    "shear_angle = 0.0\n",
    "volumn = np.square(radius).sum() * np.pi\n",
    "target_volumn = 0.90\n",
    "radius = np.sqrt(target_volumn / volumn) * radius"
   ]
  },
  {
   "cell_type": "code",
   "execution_count": 1317,
   "id": "d460ad92-9f7e-4a5d-8156-49e7335a1ccc",
   "metadata": {},
   "outputs": [],
   "source": [
    "pos = tf.Variable(initial_value=initial_position, dtype=tf.float32)\n",
    "shear_angle = tf.Variable(initial_value=shear_angle, dtype=pos.dtype)\n",
    "radius = tf.constant(radius, dtype=pos.dtype)\n",
    "half = tf.constant(0.5, dtype=pos.dtype)\n",
    "zero = tf.constant(0.0, dtype=pos.dtype)\n",
    "epsilon = tf.constant(1e-12, dtype=pos.dtype)"
   ]
  },
  {
   "cell_type": "code",
   "execution_count": 1318,
   "id": "efe9c469-6c0f-4e5c-a7ae-c7073545d623",
   "metadata": {},
   "outputs": [],
   "source": [
    "width = 600\n",
    "def visual(canvas, pos, radius, shear_angle=0.0, periodic=True):\n",
    "    \"\"\"Plots the particles.\"\"\"\n",
    "    canvas.clear()\n",
    "    canvas.fill_style = \"blue\"\n",
    "    canvas.global_alpha = 0.12\n",
    "    n_particles = pos.shape[0]\n",
    "    scale = width\n",
    "    if periodic:\n",
    "        shift = [-1, 0, 1]\n",
    "    else:\n",
    "        shift = [0] # no shift for open boundary conditions.\n",
    "    with ipycanvas.hold_canvas(canvas):\n",
    "        for i in range(n_particles):\n",
    "            for x_shift in shift:\n",
    "                for y_shift in shift:\n",
    "                    canvas.fill_circle(scale * (pos[i, 0] + x_shift + shear_angle * (pos[i, 1] + y_shift)), scale * (pos[i, 1] + y_shift), scale * radius[i])"
   ]
  },
  {
   "cell_type": "code",
   "execution_count": 1319,
   "id": "5837005f-204d-443b-b105-ea1ea75aa745",
   "metadata": {},
   "outputs": [],
   "source": [
    "canvas = ipycanvas.Canvas(width=width, height=width)"
   ]
  },
  {
   "cell_type": "code",
   "execution_count": 1320,
   "id": "98750790-49ec-4284-9407-13ed9cd6f1a7",
   "metadata": {},
   "outputs": [
    {
     "data": {
      "application/vnd.jupyter.widget-view+json": {
       "model_id": "c009f2c9d25a478d8c2a9f3d7e6cd0fb",
       "version_major": 2,
       "version_minor": 0
      },
      "text/plain": [
       "Canvas(height=600, width=600)"
      ]
     },
     "metadata": {},
     "output_type": "display_data"
    }
   ],
   "source": [
    "display(canvas)"
   ]
  },
  {
   "cell_type": "code",
   "execution_count": 1321,
   "id": "92f12481-85ea-452f-99ea-2a3946499fd4",
   "metadata": {},
   "outputs": [],
   "source": [
    "visual(canvas, pos.numpy(), radius.numpy())"
   ]
  },
  {
   "cell_type": "code",
   "execution_count": 1322,
   "id": "da365195-8370-4553-90b1-d380ebc93f53",
   "metadata": {},
   "outputs": [],
   "source": [
    "def pairwise_potential(pos1, pos2, r1, r2):\n",
    "    \"\"\"Calculates the pairwise potential energy.\"\"\"\n",
    "    pos = tf.math.mod(pos1 - pos2 + half, 1.0) - half\n",
    "    pos_square_sum = tf.reduce_sum(tf.math.square(pos))\n",
    "    distance = tf.math.sqrt(pos_square_sum + epsilon)\n",
    "    cutoff = r1 + r2\n",
    "    return half * tf.math.square(tf.math.maximum(epsilon, cutoff - distance))\n",
    "    \n",
    "# @tf.function    \n",
    "def energy(position: tf.Tensor, radius: tf.Tensor):\n",
    "    \"\"\"Calculates the total potential energy.\"\"\"\n",
    "    total_energy = tf.constant(0.0, dtype=position.dtype)\n",
    "    # print(\"Tracing\")\n",
    "    for i in range(n_particle):\n",
    "        for j in range(i+1, n_particle):\n",
    "            total_energy += pairwise_potential(position[i], position[j], radius[i], radius[j])\n",
    "    return total_energy\n",
    "\n",
    "@tf.function    \n",
    "def energy_matrix(position: tf.Tensor, radius: tf.Tensor):\n",
    "    \"\"\"Calculates the total potential energy.\"\"\"\n",
    "    x = position[:, 0:1]\n",
    "    y = position[:, 1:2]\n",
    "    radius = tf.reshape(radius, shape=x.shape)\n",
    "    dx = tf.math.mod(x - tf.transpose(x) + half, 1.0) - half\n",
    "    dy = tf.math.mod(y - tf.transpose(y) + half, 1.0) - half\n",
    "    distance_square_matrix = tf.square(dx) + tf.square(dy)\n",
    "    cutoff_matrix = radius + tf.transpose(radius)\n",
    "    distance_matrix = tf.math.sqrt(epsilon + distance_square_matrix)\n",
    "    energy_matrix = half * tf.math.square(tf.math.maximum(epsilon, cutoff_matrix - distance_matrix))\n",
    "    energy = half * (tf.reduce_sum(energy_matrix) - tf.linalg.trace(energy_matrix))\n",
    "    return energy\n",
    "\n",
    "@tf.function    \n",
    "def energy_shear_matrix(position: tf.Tensor, radius: tf.Tensor, shear_angle: tf.Tensor):\n",
    "    \"\"\"Calculates the total potential energy.\"\"\"\n",
    "    x = position[:, 0:1]\n",
    "    y = position[:, 1:2]\n",
    "    radius = tf.reshape(radius, shape=x.shape)\n",
    "    dx = tf.math.mod(x - tf.transpose(x) + half, 1.0) - half\n",
    "    dy = tf.math.mod(y - tf.transpose(y) + half, 1.0) - half\n",
    "    dx = dx + shear_angle * dy\n",
    "    distance_square_matrix = tf.square(dx) + tf.square(dy)\n",
    "    cutoff_matrix = radius + tf.transpose(radius)\n",
    "    distance_matrix = tf.math.sqrt(epsilon + distance_square_matrix)\n",
    "    energy_matrix = half * tf.math.square(tf.math.maximum(epsilon, cutoff_matrix - distance_matrix))\n",
    "    energy = half * (tf.reduce_sum(energy_matrix) - tf.linalg.trace(energy_matrix))\n",
    "    return energy"
   ]
  },
  {
   "cell_type": "code",
   "execution_count": 1323,
   "id": "cc387d3e-44bb-43ab-a630-81c80c3cabca",
   "metadata": {},
   "outputs": [
    {
     "data": {
      "text/plain": [
       "<tf.Tensor: shape=(1,), dtype=float32, numpy=array([5.e-25], dtype=float32)>"
      ]
     },
     "execution_count": 1323,
     "metadata": {},
     "output_type": "execute_result"
    }
   ],
   "source": [
    "pairwise_potential(pos[0], pos[1], radius[0], radius[1])"
   ]
  },
  {
   "cell_type": "code",
   "execution_count": 1324,
   "id": "b58ef4a2-5c94-4b9b-b8d3-8e3fbe246076",
   "metadata": {},
   "outputs": [],
   "source": [
    "output = ipywidgets.widgets.Output()"
   ]
  },
  {
   "cell_type": "code",
   "execution_count": 1325,
   "id": "8b94db19-1d6f-4699-857f-c6a35dde67d9",
   "metadata": {},
   "outputs": [
    {
     "data": {
      "application/vnd.jupyter.widget-view+json": {
       "model_id": "c35e74beb80d43f9837f14185c886952",
       "version_major": 2,
       "version_minor": 0
      },
      "text/plain": [
       "Output()"
      ]
     },
     "metadata": {},
     "output_type": "display_data"
    },
    {
     "data": {
      "application/vnd.jupyter.widget-view+json": {
       "model_id": "c009f2c9d25a478d8c2a9f3d7e6cd0fb",
       "version_major": 2,
       "version_minor": 0
      },
      "text/plain": [
       "Canvas(height=600, width=600)"
      ]
     },
     "metadata": {},
     "output_type": "display_data"
    }
   ],
   "source": [
    "display(output)\n",
    "display(canvas)"
   ]
  },
  {
   "cell_type": "code",
   "execution_count": 1326,
   "id": "0dd48d3e-67ea-4e75-b48c-0239366d178b",
   "metadata": {},
   "outputs": [],
   "source": [
    "schedule = tf.keras.optimizers.schedules.ExponentialDecay(\n",
    "    initial_learning_rate=1e-2, decay_steps=100, decay_rate=0.9, \n",
    ")\n",
    "# optimizer_sgd = tf.keras.optimizers.SGD(learning_rate=1e-2, momentum=0.99)\n",
    "optimizer = tf.keras.optimizers.Adam(learning_rate=schedule)\n",
    "# optimizer = tf.keras.optimizers.Adagrad(learning_rate=1e-1)\n",
    "# optimizer = tf.keras.optimizers.RMSprop(learning_rate=1e-3, momentum=0.9)\n",
    "steps = 1000\n",
    "for step in range(steps):\n",
    "    with tf.GradientTape() as tape:\n",
    "        total_energy = energy_shear_matrix(pos, radius, shear_angle)\n",
    "    if step < steps / 2:\n",
    "        var_list = [pos]\n",
    "    else:\n",
    "        var_list = [pos, shear_angle]\n",
    "    grad = tape.gradient(total_energy, var_list)\n",
    "    optimizer.apply_gradients(zip(grad, var_list))\n",
    "    with ipycanvas.hold_canvas(canvas):\n",
    "        visual(canvas, pos.numpy(), radius.numpy(), shear_angle=shear_angle.numpy())\n",
    "    with output:\n",
    "        output.clear_output()\n",
    "        print(\"Shear angle = %.2f\" % shear_angle.numpy())\n",
    "        "
   ]
  },
  {
   "cell_type": "code",
   "execution_count": 1327,
   "id": "20a13b2a-b6db-4df0-a204-68fefb922e62",
   "metadata": {},
   "outputs": [],
   "source": [
    "def contection_matrix(position: tf.Tensor, radius: tf.Tensor, shear_angle: tf.Tensor, periodic: bool):\n",
    "    \"\"\"Calculates the connections between particles.\"\"\"\n",
    "    x = position[:, 0:1]\n",
    "    y = position[:, 1:2]\n",
    "    radius = tf.reshape(radius, shape=x.shape)\n",
    "    if periodic:\n",
    "        dx = tf.math.mod(x - tf.transpose(x) + half, 1.0) - half\n",
    "        dy = tf.math.mod(y - tf.transpose(y) + half, 1.0) - half\n",
    "    else:\n",
    "        dx = x - tf.transpose(x)\n",
    "        dy = y - tf.transpose(y)\n",
    "    dy = dy + shear_angle * dx\n",
    "    distance_square_matrix = tf.square(dx) + tf.square(dy)\n",
    "    cutoff_matrix = radius + tf.transpose(radius)\n",
    "    distance_matrix = tf.math.sqrt(epsilon + distance_square_matrix)\n",
    "    connection = tf.cast(cutoff_matrix > distance_matrix, dtype=pos.dtype)\n",
    "    return connection - tf.linalg.diag(tf.linalg.diag_part(connection))"
   ]
  },
  {
   "cell_type": "code",
   "execution_count": 1328,
   "id": "e8e18bd9-542b-4589-8de4-b98ff9ad3b93",
   "metadata": {},
   "outputs": [],
   "source": [
    "connection = contection_matrix(pos, radius, shear_angle, periodic=False)"
   ]
  },
  {
   "cell_type": "code",
   "execution_count": 1329,
   "id": "eb622576-11b8-45a4-a443-fa3eb36d2a04",
   "metadata": {},
   "outputs": [],
   "source": [
    "final_position = pos.numpy()\n",
    "final_position = np.mod(final_position, 1.0)\n",
    "final_position[:, 0] += shear_angle.numpy() * final_position[:, 1]\n",
    "final_position = np.mod(final_position, 1.0)\n",
    "connection = contection_matrix(final_position, radius, shear_angle=0.0, periodic=False)"
   ]
  },
  {
   "cell_type": "code",
   "execution_count": 1330,
   "id": "44578f5e-40d1-42a5-b739-b74b70996bfc",
   "metadata": {},
   "outputs": [
    {
     "data": {
      "application/vnd.jupyter.widget-view+json": {
       "model_id": "c009f2c9d25a478d8c2a9f3d7e6cd0fb",
       "version_major": 2,
       "version_minor": 0
      },
      "text/plain": [
       "Canvas(height=600, width=600)"
      ]
     },
     "metadata": {},
     "output_type": "display_data"
    }
   ],
   "source": [
    "visual(canvas, final_position, radius.numpy(), periodic=False)\n",
    "display(canvas)"
   ]
  },
  {
   "cell_type": "code",
   "execution_count": 1331,
   "id": "8f0934ec-6251-4b0e-be89-8162e5d726b1",
   "metadata": {},
   "outputs": [],
   "source": [
    "np.savetxt(\"connection.csv\", connection.numpy(), fmt='%.1e')\n",
    "np.savetxt(\"position.csv\", final_position, )\n",
    "np.savetxt(\"radius.csv\", radius.numpy(), )"
   ]
  },
  {
   "cell_type": "code",
   "execution_count": null,
   "id": "27d457bd-8af1-4950-ba61-f064205efa55",
   "metadata": {},
   "outputs": [],
   "source": []
  }
 ],
 "metadata": {
  "kernelspec": {
   "display_name": "Python 3 (ipykernel)",
   "language": "python",
   "name": "python3"
  },
  "language_info": {
   "codemirror_mode": {
    "name": "ipython",
    "version": 3
   },
   "file_extension": ".py",
   "mimetype": "text/x-python",
   "name": "python",
   "nbconvert_exporter": "python",
   "pygments_lexer": "ipython3",
   "version": "3.9.5"
  }
 },
 "nbformat": 4,
 "nbformat_minor": 5
}
