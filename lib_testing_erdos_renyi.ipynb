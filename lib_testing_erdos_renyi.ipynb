{
 "cells": [
  {
   "cell_type": "code",
   "execution_count": 2,
   "id": "1520488a-184d-4047-b375-c48dc74b9d5d",
   "metadata": {},
   "outputs": [],
   "source": [
    "import igraph\n",
    "import numpy as np\n",
    "import pandas as pd\n",
    "import pebble_game_algorithm.lib as lib\n",
    "import logging"
   ]
  },
  {
   "cell_type": "code",
   "execution_count": 4,
   "id": "c51ff918-7204-4fb8-b974-691a7bc1f05a",
   "metadata": {},
   "outputs": [],
   "source": [
    "FORMAT = '%(asctime)s %(levelname)s:%(message)s'\n",
    "logging.basicConfig(level=logging.WARNING, format=FORMAT, datefmt='%m/%d/%Y %I:%M:%S %p')"
   ]
  },
  {
   "cell_type": "code",
   "execution_count": 16,
   "id": "7e10ad2e-9ee5-4066-9fea-906d915bdd51",
   "metadata": {},
   "outputs": [],
   "source": [
    "N = 100\n",
    "REPEAT = 10"
   ]
  },
  {
   "cell_type": "code",
   "execution_count": 17,
   "id": "01ab7715-b937-4f58-a240-262a46ccabe4",
   "metadata": {},
   "outputs": [],
   "source": [
    "results = {}\n",
    "for m in range(int(1.5 * N), int(2.5 * N), int(N / 10)):\n",
    "    floppy_modes = []\n",
    "    for _ in range(REPEAT):\n",
    "        g = igraph.Graph.Erdos_Renyi(n=N, m=m)\n",
    "        for idx, v in enumerate(g.vs):\n",
    "            v[\"name\"] = str(f\"v_{idx}\")\n",
    "            v[\"free_pebble\"] = 2\n",
    "\n",
    "        edges = []\n",
    "        for edge in g.es:\n",
    "            source, target = edge.tuple\n",
    "            edges.append((g.vs[source][\"name\"], g.vs[target][\"name\"]))\n",
    "        g.delete_edges(edges)\n",
    "        g.to_directed()\n",
    "\n",
    "        for edge in edges:\n",
    "            independent, stressed_cluster = lib.build_edge(g, edge)\n",
    "        \n",
    "        floppy_mode = len(g.vs) * 2 - len(g.es)\n",
    "        floppy_modes.append(floppy_mode)\n",
    "    \n",
    "    results[m] = floppy_modes"
   ]
  },
  {
   "cell_type": "code",
   "execution_count": 18,
   "id": "766683bf-1b8a-4db0-a90c-cb4597d9fcc0",
   "metadata": {},
   "outputs": [
    {
     "data": {
      "text/plain": [
       "{150: [50, 50, 50, 50, 50, 50, 50, 50, 50, 50],\n",
       " 160: [40, 40, 40, 40, 40, 40, 40, 40, 40, 40],\n",
       " 170: [30, 30, 30, 30, 30, 30, 30, 30, 30, 30],\n",
       " 180: [24, 20, 26, 24, 26, 22, 28, 20, 20, 22],\n",
       " 190: [18, 22, 20, 23, 17, 19, 21, 20, 20, 14],\n",
       " 200: [20, 15, 22, 11, 15, 14, 12, 17, 17, 16],\n",
       " 210: [17, 13, 10, 18, 16, 10, 13, 16, 12, 11],\n",
       " 220: [12, 11, 12, 12, 11, 11, 10, 10, 13, 15],\n",
       " 230: [6, 9, 7, 12, 9, 9, 14, 13, 7, 6],\n",
       " 240: [7, 7, 7, 9, 7, 8, 10, 5, 6, 7]}"
      ]
     },
     "execution_count": 18,
     "metadata": {},
     "output_type": "execute_result"
    }
   ],
   "source": [
    "results"
   ]
  },
  {
   "cell_type": "code",
   "execution_count": null,
   "id": "4458ee8f-67d7-4604-8555-bff35594ddba",
   "metadata": {},
   "outputs": [],
   "source": []
  }
 ],
 "metadata": {
  "kernelspec": {
   "display_name": "Python 3 (ipykernel)",
   "language": "python",
   "name": "python3"
  },
  "language_info": {
   "codemirror_mode": {
    "name": "ipython",
    "version": 3
   },
   "file_extension": ".py",
   "mimetype": "text/x-python",
   "name": "python",
   "nbconvert_exporter": "python",
   "pygments_lexer": "ipython3",
   "version": "3.9.5"
  }
 },
 "nbformat": 4,
 "nbformat_minor": 5
}
