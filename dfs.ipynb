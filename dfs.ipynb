{
 "cells": [
  {
   "cell_type": "code",
   "execution_count": 2,
   "id": "50b0366b-5e4e-47c0-9331-f6862597998b",
   "metadata": {},
   "outputs": [],
   "source": [
    "import igraph\n",
    "import collections"
   ]
  },
  {
   "cell_type": "code",
   "execution_count": 3,
   "id": "a7ca2049-f987-4ff1-960b-259f311273de",
   "metadata": {},
   "outputs": [],
   "source": [
    "g = igraph.Graph.Tree(6, 2)"
   ]
  },
  {
   "cell_type": "code",
   "execution_count": 4,
   "id": "07705980-412a-4878-8e21-8d60d7245567",
   "metadata": {},
   "outputs": [
    {
     "data": {
      "text/plain": [
       "igraph.Edge(<igraph.Graph object at 0x108458c70>, 5, {})"
      ]
     },
     "execution_count": 4,
     "metadata": {},
     "output_type": "execute_result"
    }
   ],
   "source": [
    "g.add_edge(5, 0)"
   ]
  },
  {
   "cell_type": "code",
   "execution_count": 5,
   "id": "8a038d1c-6298-4eb0-88ea-01e2bd3a79c4",
   "metadata": {},
   "outputs": [
    {
     "name": "stdout",
     "output_type": "stream",
     "text": [
      "IGRAPH U--- 6 6 --\n",
      "+ edges:\n",
      "0--1 0--2 1--3 1--4 2--5 0--5\n"
     ]
    }
   ],
   "source": [
    "print(g)"
   ]
  },
  {
   "cell_type": "code",
   "execution_count": 27,
   "id": "8160fba0-6b0b-4a96-b7ae-0b54a470ca95",
   "metadata": {},
   "outputs": [
    {
     "data": {
      "text/plain": [
       "0"
      ]
     },
     "execution_count": 27,
     "metadata": {},
     "output_type": "execute_result"
    }
   ],
   "source": [
    "g.get_eid(v1=g.vs[0], v2=g.vs[1])"
   ]
  },
  {
   "cell_type": "code",
   "execution_count": 20,
   "id": "ee93815e-5142-419c-9f7a-4c91b38dfcfd",
   "metadata": {},
   "outputs": [
    {
     "name": "stdout",
     "output_type": "stream",
     "text": [
      "[1]\n",
      "[1, 0]\n",
      "[1, 0, 2]\n",
      "[1, 0, 2, 5]\n",
      "[1, 3]\n",
      "[1, 4]\n"
     ]
    }
   ],
   "source": [
    "path = []\n",
    "depth_last = -1\n",
    "for (v, depth, parent) in g.dfsiter(vid=1, advanced=True):\n",
    "    if depth != (depth_last + 1):\n",
    "        path = path[:depth]\n",
    "    path.append(v.index)\n",
    "    depth_last = depth\n",
    "    print(path)"
   ]
  },
  {
   "cell_type": "code",
   "execution_count": 17,
   "id": "a162dcd0-4cb3-4944-b5f8-c78936fc531f",
   "metadata": {},
   "outputs": [
    {
     "data": {
      "text/plain": [
       "[1, 4]"
      ]
     },
     "execution_count": 17,
     "metadata": {},
     "output_type": "execute_result"
    }
   ],
   "source": [
    "path"
   ]
  },
  {
   "cell_type": "code",
   "execution_count": 8,
   "id": "a8c10b34-3a76-4789-ad0e-ff80d90b0651",
   "metadata": {},
   "outputs": [
    {
     "name": "stdout",
     "output_type": "stream",
     "text": [
      "igraph.Vertex(<igraph.Graph object at 0x108458c70>, 1, {}) 0 None\n",
      "igraph.Vertex(<igraph.Graph object at 0x108458c70>, 0, {}) 1 igraph.Vertex(<igraph.Graph object at 0x108458c70>, 1, {})\n",
      "igraph.Vertex(<igraph.Graph object at 0x108458c70>, 2, {}) 2 igraph.Vertex(<igraph.Graph object at 0x108458c70>, 0, {})\n",
      "igraph.Vertex(<igraph.Graph object at 0x108458c70>, 5, {}) 3 igraph.Vertex(<igraph.Graph object at 0x108458c70>, 2, {})\n",
      "igraph.Vertex(<igraph.Graph object at 0x108458c70>, 3, {}) 1 igraph.Vertex(<igraph.Graph object at 0x108458c70>, 1, {})\n",
      "igraph.Vertex(<igraph.Graph object at 0x108458c70>, 4, {}) 1 igraph.Vertex(<igraph.Graph object at 0x108458c70>, 1, {})\n"
     ]
    }
   ],
   "source": [
    "path = collections.deque([None])\n",
    "searched_edges = set()\n",
    "ind_subgraph_edges = {}\n",
    "ind_subgraph_vertices = {}\n",
    "for (v, depth, parent) in g.dfsiter(vid=1, advanced=True):\n",
    "    while path[-1] != parent:\n",
    "        path.pop()\n",
    "    path.append(v)\n",
    "    \n",
    "    if parent is not None:\n",
    "        searched_edges.add((parent, v))\n",
    "\n",
    "    print (v, depth, parent)"
   ]
  },
  {
   "cell_type": "code",
   "execution_count": 9,
   "id": "4ca573d5-070e-4291-ae47-12f3c66bb7f9",
   "metadata": {},
   "outputs": [
    {
     "data": {
      "text/plain": [
       "5"
      ]
     },
     "execution_count": 9,
     "metadata": {},
     "output_type": "execute_result"
    }
   ],
   "source": [
    "len(searched_edges)"
   ]
  },
  {
   "cell_type": "code",
   "execution_count": null,
   "id": "c89e1197-1a80-41ff-a95b-782c73c3d4c8",
   "metadata": {},
   "outputs": [],
   "source": []
  }
 ],
 "metadata": {
  "kernelspec": {
   "display_name": "Python 3 (ipykernel)",
   "language": "python",
   "name": "python3"
  },
  "language_info": {
   "codemirror_mode": {
    "name": "ipython",
    "version": 3
   },
   "file_extension": ".py",
   "mimetype": "text/x-python",
   "name": "python",
   "nbconvert_exporter": "python",
   "pygments_lexer": "ipython3",
   "version": "3.9.5"
  }
 },
 "nbformat": 4,
 "nbformat_minor": 5
}
