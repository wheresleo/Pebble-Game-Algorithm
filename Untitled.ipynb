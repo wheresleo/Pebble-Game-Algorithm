{
 "cells": [
  {
   "cell_type": "code",
   "execution_count": 2,
   "id": "fc355231-2f5d-460e-be0b-e290cab59838",
   "metadata": {},
   "outputs": [],
   "source": [
    "import igraph"
   ]
  },
  {
   "cell_type": "code",
   "execution_count": 3,
   "id": "8ebb3d9a-82ca-46d9-9436-ba88f4eab3a4",
   "metadata": {},
   "outputs": [
    {
     "name": "stdout",
     "output_type": "stream",
     "text": [
      "0.9.8\n"
     ]
    }
   ],
   "source": [
    "print(igraph.__version__)"
   ]
  },
  {
   "cell_type": "code",
   "execution_count": 4,
   "id": "aab70bdb-857f-49b4-bdda-464f494e49e3",
   "metadata": {},
   "outputs": [],
   "source": [
    "g = igraph.Graph()"
   ]
  },
  {
   "cell_type": "code",
   "execution_count": 5,
   "id": "cb87afe8-d45b-473a-810b-efb2709eed76",
   "metadata": {},
   "outputs": [
    {
     "name": "stdout",
     "output_type": "stream",
     "text": [
      "IGRAPH U--- 0 0 --\n"
     ]
    }
   ],
   "source": [
    "print(g)"
   ]
  },
  {
   "cell_type": "code",
   "execution_count": 6,
   "id": "8d7eb96a-ebf1-4e5e-aa5f-e9eb93a4ef42",
   "metadata": {},
   "outputs": [],
   "source": [
    "g.add_vertices(3)"
   ]
  },
  {
   "cell_type": "code",
   "execution_count": 7,
   "id": "da1c327a-c5bd-43e9-86c4-9a355000eec4",
   "metadata": {},
   "outputs": [],
   "source": [
    "g.add_edges([(0, 1), (1, 2)])"
   ]
  },
  {
   "cell_type": "code",
   "execution_count": 8,
   "id": "1d833a15-d2d0-402b-9ab3-010c3aa0f355",
   "metadata": {},
   "outputs": [
    {
     "name": "stdout",
     "output_type": "stream",
     "text": [
      "IGRAPH U--- 3 2 --\n",
      "+ edges:\n",
      "0--1 1--2\n"
     ]
    }
   ],
   "source": [
    "print(g)"
   ]
  },
  {
   "cell_type": "code",
   "execution_count": 9,
   "id": "55d58e19-058f-4557-84f5-b179c0b2af18",
   "metadata": {},
   "outputs": [
    {
     "data": {
      "text/plain": [
       "1"
      ]
     },
     "execution_count": 9,
     "metadata": {},
     "output_type": "execute_result"
    }
   ],
   "source": [
    "g.get_eid(1, 2)"
   ]
  },
  {
   "cell_type": "code",
   "execution_count": 10,
   "id": "6f492e97-b4aa-46b8-baeb-4a0f67b55991",
   "metadata": {},
   "outputs": [],
   "source": [
    "g = igraph.Graph.Tree(127, 2)"
   ]
  },
  {
   "cell_type": "code",
   "execution_count": 11,
   "id": "1f8eec07-8730-4e93-b67f-27113e346a0c",
   "metadata": {},
   "outputs": [
    {
     "name": "stdout",
     "output_type": "stream",
     "text": [
      "IGRAPH U--- 127 126 -- \n"
     ]
    }
   ],
   "source": [
    "igraph.summary(g)"
   ]
  },
  {
   "cell_type": "code",
   "execution_count": 12,
   "id": "7fcafd24-51ac-4f1b-9ad2-20e5f072cde6",
   "metadata": {},
   "outputs": [
    {
     "data": {
      "text/plain": [
       "igraph.Edge(<igraph.Graph object at 0x114769130>, 1, {})"
      ]
     },
     "execution_count": 12,
     "metadata": {},
     "output_type": "execute_result"
    }
   ],
   "source": [
    "g.es[1]"
   ]
  },
  {
   "cell_type": "code",
   "execution_count": 13,
   "id": "58aa81b0-4af5-4966-aa50-ac86b4845a02",
   "metadata": {},
   "outputs": [],
   "source": [
    "g.es[1][\"name\"] = \"ok\""
   ]
  },
  {
   "cell_type": "code",
   "execution_count": 14,
   "id": "ad4fefdd-b0f5-46be-b21c-0431dd73604d",
   "metadata": {},
   "outputs": [
    {
     "data": {
      "text/plain": [
       "<igraph.EdgeSeq at 0x114749ef0>"
      ]
     },
     "execution_count": 14,
     "metadata": {},
     "output_type": "execute_result"
    }
   ],
   "source": [
    "g.es"
   ]
  },
  {
   "cell_type": "code",
   "execution_count": 15,
   "id": "ffc3f7b9-a87a-49f5-baf1-6667e39eb51c",
   "metadata": {},
   "outputs": [
    {
     "data": {
      "text/plain": [
       "igraph.Edge(<igraph.Graph object at 0x114769130>, 1, {'name': 'ok'})"
      ]
     },
     "execution_count": 15,
     "metadata": {},
     "output_type": "execute_result"
    }
   ],
   "source": [
    "g.es[1]"
   ]
  },
  {
   "cell_type": "code",
   "execution_count": 16,
   "id": "92239af4-7500-4284-a440-aa3220261a1d",
   "metadata": {},
   "outputs": [
    {
     "data": {
      "text/plain": [
       "igraph.Edge(<igraph.Graph object at 0x114769130>, 2, {'name': None})"
      ]
     },
     "execution_count": 16,
     "metadata": {},
     "output_type": "execute_result"
    }
   ],
   "source": [
    "g.es[2]"
   ]
  },
  {
   "cell_type": "code",
   "execution_count": 17,
   "id": "db561573-916e-4141-93a7-6ec91a1e6e71",
   "metadata": {},
   "outputs": [
    {
     "data": {
      "text/plain": [
       "{'name': 'ok'}"
      ]
     },
     "execution_count": 17,
     "metadata": {},
     "output_type": "execute_result"
    }
   ],
   "source": [
    "g.es[1].attributes()"
   ]
  },
  {
   "cell_type": "code",
   "execution_count": 18,
   "id": "2540f55f-d018-4ac6-8c09-b29936135f44",
   "metadata": {},
   "outputs": [],
   "source": [
    "seq = g.es.select(name_eq=\"ok\")"
   ]
  },
  {
   "cell_type": "code",
   "execution_count": 19,
   "id": "47126837-6a2c-4442-9a5e-cb2f44d2f32e",
   "metadata": {},
   "outputs": [
    {
     "data": {
      "text/plain": [
       "[1]"
      ]
     },
     "execution_count": 19,
     "metadata": {},
     "output_type": "execute_result"
    }
   ],
   "source": [
    "[e.index for e in seq]"
   ]
  },
  {
   "cell_type": "code",
   "execution_count": 23,
   "id": "c5e432fa-78f6-4393-b264-fa1980ab845d",
   "metadata": {},
   "outputs": [],
   "source": [
    "layout = g.layout(\"kk\")"
   ]
  },
  {
   "cell_type": "code",
   "execution_count": 24,
   "id": "a7045e3e-d005-4dfd-a9bc-6ed9f9118246",
   "metadata": {},
   "outputs": [
    {
     "data": {
      "image/png": "[encoded data removed]",
      "text/plain": [
       "<Figure size 432x288 with 1 Axes>"
      ]
     },
     "metadata": {
      "needs_background": "light"
     },
     "output_type": "display_data"
    }
   ],
   "source": [
    "import matplotlib.pyplot as plt\n",
    "fig, ax = plt.subplots()\n",
    "igraph.plot(g, layout=layout, target=ax, vertex_size=2)"
   ]
  },
  {
   "cell_type": "code",
   "execution_count": null,
   "id": "28b45924-3256-48f0-9867-15729656c916",
   "metadata": {},
   "outputs": [],
   "source": []
  }
 ],
 "metadata": {
  "kernelspec": {
   "display_name": "Python 3 (ipykernel)",
   "language": "python",
   "name": "python3"
  },
  "language_info": {
   "codemirror_mode": {
    "name": "ipython",
    "version": 3
   },
   "file_extension": ".py",
   "mimetype": "text/x-python",
   "name": "python",
   "nbconvert_exporter": "python",
   "pygments_lexer": "ipython3",
   "version": "3.9.5"
  }
 },
 "nbformat": 4,
 "nbformat_minor": 5
}
