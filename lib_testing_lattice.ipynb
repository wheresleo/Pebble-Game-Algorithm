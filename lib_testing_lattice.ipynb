{
 "cells": [
  {
   "cell_type": "code",
   "execution_count": 1,
   "id": "1520488a-184d-4047-b375-c48dc74b9d5d",
   "metadata": {},
   "outputs": [],
   "source": [
    "import igraph\n",
    "import numpy as np\n",
    "import pandas as pd\n",
    "import pebble_game_algorithm.lib as lib\n",
    "import logging\n",
    "\n",
    "from functools import wraps\n",
    "from time import time"
   ]
  },
  {
   "cell_type": "code",
   "execution_count": 2,
   "id": "c51ff918-7204-4fb8-b974-691a7bc1f05a",
   "metadata": {},
   "outputs": [],
   "source": [
    "FORMAT = '%(asctime)s %(levelname)s:%(message)s'\n",
    "logging.basicConfig(level=logging.INFO, format=FORMAT, datefmt='%m/%d/%Y %I:%M:%S %p')"
   ]
  },
  {
   "cell_type": "code",
   "execution_count": 3,
   "id": "7e10ad2e-9ee5-4066-9fea-906d915bdd51",
   "metadata": {},
   "outputs": [],
   "source": [
    "N = 100"
   ]
  },
  {
   "cell_type": "code",
   "execution_count": 4,
   "id": "6f811c4d-fd72-483d-b5e3-b65bf8c2df80",
   "metadata": {},
   "outputs": [],
   "source": [
    "def timing(func):\n",
    "    \"\"\"Decorator for timing a funciton.\"\"\"\n",
    "    @wraps(func)\n",
    "    def wrap(*args, **kw):\n",
    "        ts = time()\n",
    "        result = func(*args, **kw)\n",
    "        te = time()\n",
    "        print('func:%r args:[%r, %r] took: %2.4f sec' % (func.__name__, args, kw, te-ts))\n",
    "        return te-ts  # returns the total time spent.\n",
    "    return wrap"
   ]
  },
  {
   "cell_type": "code",
   "execution_count": 5,
   "id": "01ab7715-b937-4f58-a240-262a46ccabe4",
   "metadata": {},
   "outputs": [],
   "source": [
    "# Open boundary\n",
    "@timing\n",
    "def obc(n=N):\n",
    "    g = igraph.Graph.Lattice(dim=[n, n], circular=False)\n",
    "    for idx, v in enumerate(g.vs):\n",
    "        v[\"name\"] = str(f\"v_{idx}\")\n",
    "        v[\"free_pebble\"] = 2\n",
    "\n",
    "    edges = []\n",
    "    for edge in g.es:\n",
    "        source, target = edge.tuple\n",
    "        edges.append((g.vs[source][\"name\"], g.vs[target][\"name\"]))\n",
    "    g.delete_edges(edges)\n",
    "    g.to_directed()\n",
    "\n",
    "    for edge in edges:\n",
    "        independent, stressed_cluster = lib.build_edge(g, edge)\n",
    "\n",
    "    floppy_mode = len(g.vs) * 2 - len(g.es)\n",
    "    print(f\"Floppy mode number: {floppy_mode}\")"
   ]
  },
  {
   "cell_type": "code",
   "execution_count": 6,
   "id": "f7b69c2b-bb01-4a88-8588-f9224b7a804d",
   "metadata": {},
   "outputs": [],
   "source": [
    "profile = {}"
   ]
  },
  {
   "cell_type": "code",
   "execution_count": 7,
   "id": "30605f4a-5812-44ff-8414-3cfaf639536a",
   "metadata": {},
   "outputs": [
    {
     "name": "stdout",
     "output_type": "stream",
     "text": [
      "Floppy mode number: 2\n",
      "func:'obc' args:[(), {'n': 1}] took: 0.0001 sec\n",
      "Floppy mode number: 4\n",
      "func:'obc' args:[(), {'n': 2}] took: 0.0001 sec\n",
      "Floppy mode number: 8\n",
      "func:'obc' args:[(), {'n': 4}] took: 0.0005 sec\n",
      "Floppy mode number: 16\n",
      "func:'obc' args:[(), {'n': 8}] took: 0.0041 sec\n",
      "Floppy mode number: 32\n",
      "func:'obc' args:[(), {'n': 16}] took: 0.0366 sec\n",
      "Floppy mode number: 64\n",
      "func:'obc' args:[(), {'n': 32}] took: 0.4683 sec\n",
      "Floppy mode number: 128\n",
      "func:'obc' args:[(), {'n': 64}] took: 7.0960 sec\n",
      "Floppy mode number: 256\n",
      "func:'obc' args:[(), {'n': 128}] took: 107.9588 sec\n"
     ]
    }
   ],
   "source": [
    "for n in 2**np.array(range(8)):\n",
    "    profile[n] = obc(n=n)"
   ]
  },
  {
   "cell_type": "code",
   "execution_count": 8,
   "id": "b07d3060-45c3-4d3a-91b0-3109d1ceaace",
   "metadata": {},
   "outputs": [],
   "source": [
    "# Periodic boundary\n",
    "@timing\n",
    "def pbc():\n",
    "    g = igraph.Graph.Lattice(dim=[N, N], circular=True)\n",
    "    for idx, v in enumerate(g.vs):\n",
    "        v[\"name\"] = str(f\"v_{idx}\")\n",
    "        v[\"free_pebble\"] = 2\n",
    "\n",
    "    edges = []\n",
    "    for edge in g.es:\n",
    "        source, target = edge.tuple\n",
    "        edges.append((g.vs[source][\"name\"], g.vs[target][\"name\"]))\n",
    "    g.delete_edges(edges)\n",
    "    g.to_directed()\n",
    "\n",
    "    for edge in edges:\n",
    "        independent, stressed_cluster = lib.build_edge(g, edge)\n",
    "\n",
    "    floppy_mode = len(g.vs) * 2 - len(g.es)\n",
    "    print(f\"Floppy mode number: {floppy_mode}\")"
   ]
  },
  {
   "cell_type": "code",
   "execution_count": 9,
   "id": "91f36c16-665b-451f-b615-46d926d59783",
   "metadata": {},
   "outputs": [
    {
     "name": "stderr",
     "output_type": "stream",
     "text": [
      "12/17/2021 12:21:24 PM INFO:Edge is redundant: ('v_98', 'v_9998')\n",
      "12/17/2021 12:21:24 PM INFO:Edge is redundant: ('v_9900', 'v_9999')\n",
      "12/17/2021 12:21:24 PM INFO:Edge is redundant: ('v_99', 'v_9999')\n"
     ]
    },
    {
     "name": "stdout",
     "output_type": "stream",
     "text": [
      "Floppy mode number: 3\n",
      "func:'pbc' args:[(), {}] took: 286.9950 sec\n"
     ]
    },
    {
     "data": {
      "text/plain": [
       "286.9949700832367"
      ]
     },
     "execution_count": 9,
     "metadata": {},
     "output_type": "execute_result"
    }
   ],
   "source": [
    "pbc()"
   ]
  }
 ],
 "metadata": {
  "kernelspec": {
   "display_name": "Python 3 (ipykernel)",
   "language": "python",
   "name": "python3"
  },
  "language_info": {
   "codemirror_mode": {
    "name": "ipython",
    "version": 3
   },
   "file_extension": ".py",
   "mimetype": "text/x-python",
   "name": "python",
   "nbconvert_exporter": "python",
   "pygments_lexer": "ipython3",
   "version": "3.9.5"
  }
 },
 "nbformat": 4,
 "nbformat_minor": 5
}
